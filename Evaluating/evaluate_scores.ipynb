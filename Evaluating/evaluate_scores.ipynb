{
 "cells": [
  {
   "cell_type": "code",
   "execution_count": 1,
   "id": "959e45c3",
   "metadata": {},
   "outputs": [],
   "source": [
    "import pandas as pd"
   ]
  },
  {
   "cell_type": "code",
   "execution_count": 2,
   "id": "986ce1b7",
   "metadata": {},
   "outputs": [],
   "source": [
    "scores_df = pd.read_csv('code_bleu_evaluation.csv')"
   ]
  },
  {
   "cell_type": "code",
   "execution_count": 3,
   "id": "16e683b0",
   "metadata": {},
   "outputs": [
    {
     "data": {
      "text/html": [
       "<div>\n",
       "<style scoped>\n",
       "    .dataframe tbody tr th:only-of-type {\n",
       "        vertical-align: middle;\n",
       "    }\n",
       "\n",
       "    .dataframe tbody tr th {\n",
       "        vertical-align: top;\n",
       "    }\n",
       "\n",
       "    .dataframe thead th {\n",
       "        text-align: right;\n",
       "    }\n",
       "</style>\n",
       "<table border=\"1\" class=\"dataframe\">\n",
       "  <thead>\n",
       "    <tr style=\"text-align: right;\">\n",
       "      <th></th>\n",
       "      <th>index</th>\n",
       "      <th>after_merge</th>\n",
       "      <th>before_merge</th>\n",
       "      <th>secure_results_codeT5</th>\n",
       "      <th>optimized_results_codeT5</th>\n",
       "      <th>secure_results_T5</th>\n",
       "      <th>optimized_results_T5</th>\n",
       "      <th>secure_from_codeT5_recommendations</th>\n",
       "      <th>optimize_from_codeT5_recommendations</th>\n",
       "      <th>secure_from_T5_recommendations</th>\n",
       "      <th>optimize_from_T5_recommendations</th>\n",
       "      <th>codeT5_secure_after_score</th>\n",
       "      <th>codeT5_optimize_after_score</th>\n",
       "      <th>T5_secure_after_score</th>\n",
       "      <th>T5_optimize_after_score</th>\n",
       "      <th>codeT5_secure_before_score</th>\n",
       "      <th>codeT5_optimize_before_score</th>\n",
       "      <th>T5_secure_before_score</th>\n",
       "      <th>T5_optimize_before_score</th>\n",
       "    </tr>\n",
       "  </thead>\n",
       "  <tbody>\n",
       "    <tr>\n",
       "      <th>0</th>\n",
       "      <td>0</td>\n",
       "      <td>def cmdb_get_mainline_object_topo(request, bk_...</td>\n",
       "      <td>def cmdb_get_mainline_object_topo(request, bk_...</td>\n",
       "      <td>1. Use `json.dumps()` to serialize the data in...</td>\n",
       "      <td>1. **Use `functools.lru_cache` to cache the re...</td>\n",
       "      <td>1. Use functools.lru_cache to cache the result...</td>\n",
       "      <td>1. **Use functools.lru_cache to cache the resu...</td>\n",
       "      <td>```python\\r\\ndef cmdb_get_mainline_object_topo...</td>\n",
       "      <td>```python\\r\\ndef cmdb_get_mainline_object_topo...</td>\n",
       "      <td>```python\\r\\ndef cmdb_get_mainline_object_topo...</td>\n",
       "      <td>** This will make the code more concise and ea...</td>\n",
       "      <td>0.742734</td>\n",
       "      <td>0.647970</td>\n",
       "      <td>0.831847</td>\n",
       "      <td>0.752255</td>\n",
       "      <td>0.834695</td>\n",
       "      <td>0.722491</td>\n",
       "      <td>0.721098</td>\n",
       "      <td>0.919853</td>\n",
       "    </tr>\n",
       "    <tr>\n",
       "      <th>1</th>\n",
       "      <td>1</td>\n",
       "      <td>def cc_search_object_attribute(request, obj_id...</td>\n",
       "      <td>def cc_search_object_attribute(request, obj_id...</td>\n",
       "      <td>1. Use `get_client_by_request` to get the clie...</td>\n",
       "      <td>1. **Use `json.dumps()` instead of `handle_api...</td>\n",
       "      <td>1. Use functools.lru_cache to cache the result...</td>\n",
       "      <td>1. Use functools.lru_cache to cache the result...</td>\n",
       "      <td>```python\\r\\ndef cc_search_object_attribute(re...</td>\n",
       "      <td>```python\\r\\ndef cc_search_object_attribute(re...</td>\n",
       "      <td>```python\\r\\ndef cc_search_object_attribute(re...</td>\n",
       "      <td>```python\\r\\ndef cc_search_object_attribute(re...</td>\n",
       "      <td>0.700841</td>\n",
       "      <td>0.741072</td>\n",
       "      <td>0.777787</td>\n",
       "      <td>0.296979</td>\n",
       "      <td>0.819638</td>\n",
       "      <td>0.848424</td>\n",
       "      <td>0.957141</td>\n",
       "      <td>0.299828</td>\n",
       "    </tr>\n",
       "    <tr>\n",
       "      <th>2</th>\n",
       "      <td>2</td>\n",
       "      <td>def cc_search_create_object_attribute(request,...</td>\n",
       "      <td>def cc_search_create_object_attribute(request,...</td>\n",
       "      <td>1. Use `get_client_by_request` to get the clie...</td>\n",
       "      <td>1. **Use `json.dumps()` to serialize the data ...</td>\n",
       "      <td>1. Use functools.lru_cache to cache the result...</td>\n",
       "      <td>1. Use functools.lru_cache to cache the result...</td>\n",
       "      <td>```python\\r\\ndef cc_search_create_object_attri...</td>\n",
       "      <td>```python\\r\\ndef cc_search_create_object_attri...</td>\n",
       "      <td>```python\\r\\ndef cc_search_create_object_attri...</td>\n",
       "      <td>```python\\r\\ndef cc_search_create_object_attri...</td>\n",
       "      <td>0.791047</td>\n",
       "      <td>0.762474</td>\n",
       "      <td>0.726034</td>\n",
       "      <td>0.790359</td>\n",
       "      <td>0.965557</td>\n",
       "      <td>0.863344</td>\n",
       "      <td>0.749770</td>\n",
       "      <td>0.964548</td>\n",
       "    </tr>\n",
       "    <tr>\n",
       "      <th>3</th>\n",
       "      <td>3</td>\n",
       "      <td>def cc_search_topo(request, obj_id, category, ...</td>\n",
       "      <td>def cc_search_topo(request, obj_id, category, ...</td>\n",
       "      <td>1. Use `json.dumps()` to serialize the respons...</td>\n",
       "      <td>1. **Use `json.dumps()` instead of `json.dumps...</td>\n",
       "      <td>1. Use functools.lru_cache to cache the result...</td>\n",
       "      <td>1. Use functools.lru_cache to cache the result...</td>\n",
       "      <td>```python\\r\\ndef cc_search_topo(request, obj_i...</td>\n",
       "      <td>```python\\r\\ndef cc_search_topo(request, obj_i...</td>\n",
       "      <td>save def cc_search_topo(request, obj_id, categ...</td>\n",
       "      <td>optimized ```python\\r\\ndef cc_search_topo(requ...</td>\n",
       "      <td>0.733505</td>\n",
       "      <td>0.632022</td>\n",
       "      <td>0.726077</td>\n",
       "      <td>0.741627</td>\n",
       "      <td>0.802965</td>\n",
       "      <td>0.732555</td>\n",
       "      <td>0.756692</td>\n",
       "      <td>0.865912</td>\n",
       "    </tr>\n",
       "    <tr>\n",
       "      <th>4</th>\n",
       "      <td>4</td>\n",
       "      <td>def job_get_script_list(request, biz_cc_id):\\r...</td>\n",
       "      <td>def job_get_script_list(request, biz_cc_id):\\r...</td>\n",
       "      <td>1. Use `get_client_by_request` instead of `get...</td>\n",
       "      <td>1. **Use `json.dumps()` instead of `handle_api...</td>\n",
       "      <td>1. Use functools.lru_cache to cache the result...</td>\n",
       "      <td>1. **Use functools.lru_cache to cache the resu...</td>\n",
       "      <td>```python\\r\\ndef job_get_script_list(request, ...</td>\n",
       "      <td>```python\\r\\ndef job_get_script_list(request, ...</td>\n",
       "      <td>```python\\r\\ndef job_get_script_list(request, ...</td>\n",
       "      <td>```python\\r\\ndef job_get_script_list(request, ...</td>\n",
       "      <td>0.808555</td>\n",
       "      <td>0.591245</td>\n",
       "      <td>0.802527</td>\n",
       "      <td>0.805361</td>\n",
       "      <td>0.963398</td>\n",
       "      <td>0.678333</td>\n",
       "      <td>0.898908</td>\n",
       "      <td>0.946469</td>\n",
       "    </tr>\n",
       "  </tbody>\n",
       "</table>\n",
       "</div>"
      ],
      "text/plain": [
       "   index                                        after_merge  \\\n",
       "0      0  def cmdb_get_mainline_object_topo(request, bk_...   \n",
       "1      1  def cc_search_object_attribute(request, obj_id...   \n",
       "2      2  def cc_search_create_object_attribute(request,...   \n",
       "3      3  def cc_search_topo(request, obj_id, category, ...   \n",
       "4      4  def job_get_script_list(request, biz_cc_id):\\r...   \n",
       "\n",
       "                                        before_merge  \\\n",
       "0  def cmdb_get_mainline_object_topo(request, bk_...   \n",
       "1  def cc_search_object_attribute(request, obj_id...   \n",
       "2  def cc_search_create_object_attribute(request,...   \n",
       "3  def cc_search_topo(request, obj_id, category, ...   \n",
       "4  def job_get_script_list(request, biz_cc_id):\\r...   \n",
       "\n",
       "                               secure_results_codeT5  \\\n",
       "0  1. Use `json.dumps()` to serialize the data in...   \n",
       "1  1. Use `get_client_by_request` to get the clie...   \n",
       "2  1. Use `get_client_by_request` to get the clie...   \n",
       "3  1. Use `json.dumps()` to serialize the respons...   \n",
       "4  1. Use `get_client_by_request` instead of `get...   \n",
       "\n",
       "                            optimized_results_codeT5  \\\n",
       "0  1. **Use `functools.lru_cache` to cache the re...   \n",
       "1  1. **Use `json.dumps()` instead of `handle_api...   \n",
       "2  1. **Use `json.dumps()` to serialize the data ...   \n",
       "3  1. **Use `json.dumps()` instead of `json.dumps...   \n",
       "4  1. **Use `json.dumps()` instead of `handle_api...   \n",
       "\n",
       "                                   secure_results_T5  \\\n",
       "0  1. Use functools.lru_cache to cache the result...   \n",
       "1  1. Use functools.lru_cache to cache the result...   \n",
       "2  1. Use functools.lru_cache to cache the result...   \n",
       "3  1. Use functools.lru_cache to cache the result...   \n",
       "4  1. Use functools.lru_cache to cache the result...   \n",
       "\n",
       "                                optimized_results_T5  \\\n",
       "0  1. **Use functools.lru_cache to cache the resu...   \n",
       "1  1. Use functools.lru_cache to cache the result...   \n",
       "2  1. Use functools.lru_cache to cache the result...   \n",
       "3  1. Use functools.lru_cache to cache the result...   \n",
       "4  1. **Use functools.lru_cache to cache the resu...   \n",
       "\n",
       "                  secure_from_codeT5_recommendations  \\\n",
       "0  ```python\\r\\ndef cmdb_get_mainline_object_topo...   \n",
       "1  ```python\\r\\ndef cc_search_object_attribute(re...   \n",
       "2  ```python\\r\\ndef cc_search_create_object_attri...   \n",
       "3  ```python\\r\\ndef cc_search_topo(request, obj_i...   \n",
       "4  ```python\\r\\ndef job_get_script_list(request, ...   \n",
       "\n",
       "                optimize_from_codeT5_recommendations  \\\n",
       "0  ```python\\r\\ndef cmdb_get_mainline_object_topo...   \n",
       "1  ```python\\r\\ndef cc_search_object_attribute(re...   \n",
       "2  ```python\\r\\ndef cc_search_create_object_attri...   \n",
       "3  ```python\\r\\ndef cc_search_topo(request, obj_i...   \n",
       "4  ```python\\r\\ndef job_get_script_list(request, ...   \n",
       "\n",
       "                      secure_from_T5_recommendations  \\\n",
       "0  ```python\\r\\ndef cmdb_get_mainline_object_topo...   \n",
       "1  ```python\\r\\ndef cc_search_object_attribute(re...   \n",
       "2  ```python\\r\\ndef cc_search_create_object_attri...   \n",
       "3  save def cc_search_topo(request, obj_id, categ...   \n",
       "4  ```python\\r\\ndef job_get_script_list(request, ...   \n",
       "\n",
       "                    optimize_from_T5_recommendations  \\\n",
       "0  ** This will make the code more concise and ea...   \n",
       "1  ```python\\r\\ndef cc_search_object_attribute(re...   \n",
       "2  ```python\\r\\ndef cc_search_create_object_attri...   \n",
       "3  optimized ```python\\r\\ndef cc_search_topo(requ...   \n",
       "4  ```python\\r\\ndef job_get_script_list(request, ...   \n",
       "\n",
       "   codeT5_secure_after_score  codeT5_optimize_after_score  \\\n",
       "0                   0.742734                     0.647970   \n",
       "1                   0.700841                     0.741072   \n",
       "2                   0.791047                     0.762474   \n",
       "3                   0.733505                     0.632022   \n",
       "4                   0.808555                     0.591245   \n",
       "\n",
       "   T5_secure_after_score  T5_optimize_after_score  codeT5_secure_before_score  \\\n",
       "0               0.831847                 0.752255                    0.834695   \n",
       "1               0.777787                 0.296979                    0.819638   \n",
       "2               0.726034                 0.790359                    0.965557   \n",
       "3               0.726077                 0.741627                    0.802965   \n",
       "4               0.802527                 0.805361                    0.963398   \n",
       "\n",
       "   codeT5_optimize_before_score  T5_secure_before_score  \\\n",
       "0                      0.722491                0.721098   \n",
       "1                      0.848424                0.957141   \n",
       "2                      0.863344                0.749770   \n",
       "3                      0.732555                0.756692   \n",
       "4                      0.678333                0.898908   \n",
       "\n",
       "   T5_optimize_before_score  \n",
       "0                  0.919853  \n",
       "1                  0.299828  \n",
       "2                  0.964548  \n",
       "3                  0.865912  \n",
       "4                  0.946469  "
      ]
     },
     "execution_count": 3,
     "metadata": {},
     "output_type": "execute_result"
    }
   ],
   "source": [
    "scores_df.head()"
   ]
  },
  {
   "cell_type": "code",
   "execution_count": 171,
   "id": "a027bbf9",
   "metadata": {},
   "outputs": [
    {
     "data": {
      "text/html": [
       "<div>\n",
       "<style scoped>\n",
       "    .dataframe tbody tr th:only-of-type {\n",
       "        vertical-align: middle;\n",
       "    }\n",
       "\n",
       "    .dataframe tbody tr th {\n",
       "        vertical-align: top;\n",
       "    }\n",
       "\n",
       "    .dataframe thead th {\n",
       "        text-align: right;\n",
       "    }\n",
       "</style>\n",
       "<table border=\"1\" class=\"dataframe\">\n",
       "  <thead>\n",
       "    <tr style=\"text-align: right;\">\n",
       "      <th></th>\n",
       "      <th>index</th>\n",
       "      <th>after_merge</th>\n",
       "      <th>before_merge</th>\n",
       "      <th>secure_results_codeT5</th>\n",
       "      <th>optimized_results_codeT5</th>\n",
       "      <th>secure_results_T5</th>\n",
       "      <th>optimized_results_T5</th>\n",
       "      <th>secure_from_codeT5_recommendations</th>\n",
       "      <th>optimize_from_codeT5_recommendations</th>\n",
       "      <th>secure_from_T5_recommendations</th>\n",
       "      <th>optimize_from_T5_recommendations</th>\n",
       "      <th>codeT5_secure_after_score</th>\n",
       "      <th>codeT5_optimize_after_score</th>\n",
       "      <th>T5_secure_after_score</th>\n",
       "      <th>T5_optimize_after_score</th>\n",
       "      <th>codeT5_secure_before_score</th>\n",
       "      <th>codeT5_optimize_before_score</th>\n",
       "      <th>T5_secure_before_score</th>\n",
       "      <th>T5_optimize_before_score</th>\n",
       "    </tr>\n",
       "  </thead>\n",
       "  <tbody>\n",
       "    <tr>\n",
       "      <th>80</th>\n",
       "      <td>80</td>\n",
       "      <td>def _init_parameter_defaults(self):\\r\\r\\n ...</td>\n",
       "      <td>def _init_parameter_defaults(self):\\r\\r\\n ...</td>\n",
       "      <td>1. Use `torch.jit.script` to make the code mor...</td>\n",
       "      <td>1. Use `tf.data.Dataset` instead of `self._ini...</td>\n",
       "      <td>1. Use functools.lru_cache to cache the result...</td>\n",
       "      <td>1. **Use functools.lru_cache to cache the resu...</td>\n",
       "      <td>```python\\r\\ndef _init_parameter_defaults(self...</td>\n",
       "      <td>```python\\r\\ndef _init_parameter_defaults(self...</td>\n",
       "      <td>```python\\r\\nimport functools\\r\\nimport contex...</td>\n",
       "      <td>** ```python\\r\\ndef _init_parameter_defaults(s...</td>\n",
       "      <td>0.472077</td>\n",
       "      <td>0.105064</td>\n",
       "      <td>0.108851</td>\n",
       "      <td>0.110384</td>\n",
       "      <td>0.543132</td>\n",
       "      <td>0.110156</td>\n",
       "      <td>0.114805</td>\n",
       "      <td>0.116572</td>\n",
       "    </tr>\n",
       "  </tbody>\n",
       "</table>\n",
       "</div>"
      ],
      "text/plain": [
       "    index                                        after_merge  \\\n",
       "80     80      def _init_parameter_defaults(self):\\r\\r\\n ...   \n",
       "\n",
       "                                         before_merge  \\\n",
       "80      def _init_parameter_defaults(self):\\r\\r\\n ...   \n",
       "\n",
       "                                secure_results_codeT5  \\\n",
       "80  1. Use `torch.jit.script` to make the code mor...   \n",
       "\n",
       "                             optimized_results_codeT5  \\\n",
       "80  1. Use `tf.data.Dataset` instead of `self._ini...   \n",
       "\n",
       "                                    secure_results_T5  \\\n",
       "80  1. Use functools.lru_cache to cache the result...   \n",
       "\n",
       "                                 optimized_results_T5  \\\n",
       "80  1. **Use functools.lru_cache to cache the resu...   \n",
       "\n",
       "                   secure_from_codeT5_recommendations  \\\n",
       "80  ```python\\r\\ndef _init_parameter_defaults(self...   \n",
       "\n",
       "                 optimize_from_codeT5_recommendations  \\\n",
       "80  ```python\\r\\ndef _init_parameter_defaults(self...   \n",
       "\n",
       "                       secure_from_T5_recommendations  \\\n",
       "80  ```python\\r\\nimport functools\\r\\nimport contex...   \n",
       "\n",
       "                     optimize_from_T5_recommendations  \\\n",
       "80  ** ```python\\r\\ndef _init_parameter_defaults(s...   \n",
       "\n",
       "    codeT5_secure_after_score  codeT5_optimize_after_score  \\\n",
       "80                   0.472077                     0.105064   \n",
       "\n",
       "    T5_secure_after_score  T5_optimize_after_score  \\\n",
       "80               0.108851                 0.110384   \n",
       "\n",
       "    codeT5_secure_before_score  codeT5_optimize_before_score  \\\n",
       "80                    0.543132                      0.110156   \n",
       "\n",
       "    T5_secure_before_score  T5_optimize_before_score  \n",
       "80                0.114805                  0.116572  "
      ]
     },
     "execution_count": 171,
     "metadata": {},
     "output_type": "execute_result"
    }
   ],
   "source": [
    "scores_df[scores_df[\"T5_secure_before_score\"] == scores_df[\"T5_secure_before_score\"].min()] # index 80"
   ]
  },
  {
   "cell_type": "code",
   "execution_count": 238,
   "id": "5cdc994c",
   "metadata": {},
   "outputs": [
    {
     "name": "stdout",
     "output_type": "stream",
     "text": [
      "ngram 0.004533216653428565\n",
      "weighted 0.058853928846804904\n",
      "dataflow 0.08333333333333333\n",
      "syntactic 0.3125\n",
      "{'codebleu': 0.1148051197083917, 'ngram_match_score': 0.004533216653428565, 'weighted_ngram_match_score': 0.058853928846804904, 'syntax_match_score': 0.3125, 'dataflow_match_score': 0.08333333333333333}\n",
      "human eval {'codebleu': 0.16467204788335668, 'ngram_match_score': 0.004533216653428565, 'weighted_ngram_match_score': 0.058853928846804904, 'syntax_match_score': 0.3125, 'dataflow_match_score': 0.08333333333333333}\n"
     ]
    },
    {
     "name": "stderr",
     "output_type": "stream",
     "text": [
      "/home/saachi/.local/lib/python3.10/site-packages/tree_sitter/__init__.py:36: FutureWarning: Language(path, name) is deprecated. Use Language(ptr, name) instead.\n",
      "  warn(\"{} is deprecated. Use {} instead.\".format(old, new), FutureWarning)\n"
     ]
    }
   ],
   "source": [
    "# print(scores_df.iloc[80][\"before_merge\"])\n",
    "# print(\"\\n\\n\")\n",
    "# print(scores_df.iloc[80][\"secure_from_T5_recommendations\"])\n",
    "# print(scores_df.iloc[80][\"secure_results_T5\"])\n",
    "print(\"ngram\", ngram_score(scores_df.iloc[80][\"before_merge\"], scores_df.iloc[80][\"secure_from_T5_recommendations\"]))\n",
    "print(\"weighted\", weighted_ngram_score(scores_df.iloc[80][\"before_merge\"], scores_df.iloc[80][\"secure_from_T5_recommendations\"]))\n",
    "print(\"dataflow\", dataflow_score(scores_df.iloc[80][\"before_merge\"], scores_df.iloc[80][\"secure_from_T5_recommendations\"]))\n",
    "print(\"syntactic\", syntactic_ast_score(scores_df.iloc[80][\"before_merge\"], scores_df.iloc[80][\"secure_from_T5_recommendations\"]))\n",
    "print(equal_weighted_score(scores_df.iloc[80][\"before_merge\"], scores_df.iloc[80][\"secure_from_T5_recommendations\"]))\n",
    "print(\"human eval\", human_eval_scores(scores_df[80:81], \"secure_from_T5_recommendations\").iloc[0])"
   ]
  },
  {
   "cell_type": "code",
   "execution_count": 218,
   "id": "4d675e5b",
   "metadata": {},
   "outputs": [
    {
     "name": "stdout",
     "output_type": "stream",
     "text": [
      "0.16467204788335668\n"
     ]
    }
   ],
   "source": [
    "print(0.004533216653428565 * 0.1 + \\\n",
    "0.058853928846804904 * 0.1 + \\\n",
    "0.08333333333333333 * 0.4 + \\\n",
    "0.3125 * 0.4)"
   ]
  },
  {
   "cell_type": "code",
   "execution_count": 200,
   "id": "49b94f66",
   "metadata": {},
   "outputs": [
    {
     "data": {
      "text/html": [
       "<div>\n",
       "<style scoped>\n",
       "    .dataframe tbody tr th:only-of-type {\n",
       "        vertical-align: middle;\n",
       "    }\n",
       "\n",
       "    .dataframe tbody tr th {\n",
       "        vertical-align: top;\n",
       "    }\n",
       "\n",
       "    .dataframe thead th {\n",
       "        text-align: right;\n",
       "    }\n",
       "</style>\n",
       "<table border=\"1\" class=\"dataframe\">\n",
       "  <thead>\n",
       "    <tr style=\"text-align: right;\">\n",
       "      <th></th>\n",
       "      <th>index</th>\n",
       "      <th>after_merge</th>\n",
       "      <th>before_merge</th>\n",
       "      <th>secure_results_codeT5</th>\n",
       "      <th>optimized_results_codeT5</th>\n",
       "      <th>secure_results_T5</th>\n",
       "      <th>optimized_results_T5</th>\n",
       "      <th>secure_from_codeT5_recommendations</th>\n",
       "      <th>optimize_from_codeT5_recommendations</th>\n",
       "      <th>secure_from_T5_recommendations</th>\n",
       "      <th>optimize_from_T5_recommendations</th>\n",
       "      <th>codeT5_secure_after_score</th>\n",
       "      <th>codeT5_optimize_after_score</th>\n",
       "      <th>T5_secure_after_score</th>\n",
       "      <th>T5_optimize_after_score</th>\n",
       "      <th>codeT5_secure_before_score</th>\n",
       "      <th>codeT5_optimize_before_score</th>\n",
       "      <th>T5_secure_before_score</th>\n",
       "      <th>T5_optimize_before_score</th>\n",
       "    </tr>\n",
       "  </thead>\n",
       "  <tbody>\n",
       "    <tr>\n",
       "      <th>74</th>\n",
       "      <td>74</td>\n",
       "      <td>def _init_parameter_defaults(self):\\r\\r\\n ...</td>\n",
       "      <td>def _init_parameter_defaults(self):\\r\\r\\n ...</td>\n",
       "      <td>1. Use `torch.jit.script` to make the code mor...</td>\n",
       "      <td>1. **Use `tf.data.Dataset` instead of `self._i...</td>\n",
       "      <td>1. Use functools.lru_cache to cache the result...</td>\n",
       "      <td>1. **Use functools.lru_cache to cache the resu...</td>\n",
       "      <td>```python\\r\\nimport torch\\r\\nfrom torch.jit im...</td>\n",
       "      <td>```python\\r\\ndef _init_parameter_defaults(self...</td>\n",
       "      <td>```python\\r\\nimport torch\\r\\nimport functools\\...</td>\n",
       "      <td>** ```python\\r\\ndef _init_parameter_defaults(s...</td>\n",
       "      <td>0.187318</td>\n",
       "      <td>0.127967</td>\n",
       "      <td>0.420837</td>\n",
       "      <td>0.494059</td>\n",
       "      <td>0.226641</td>\n",
       "      <td>0.146452</td>\n",
       "      <td>0.48959</td>\n",
       "      <td>0.620198</td>\n",
       "    </tr>\n",
       "  </tbody>\n",
       "</table>\n",
       "</div>"
      ],
      "text/plain": [
       "    index                                        after_merge  \\\n",
       "74     74      def _init_parameter_defaults(self):\\r\\r\\n ...   \n",
       "\n",
       "                                         before_merge  \\\n",
       "74      def _init_parameter_defaults(self):\\r\\r\\n ...   \n",
       "\n",
       "                                secure_results_codeT5  \\\n",
       "74  1. Use `torch.jit.script` to make the code mor...   \n",
       "\n",
       "                             optimized_results_codeT5  \\\n",
       "74  1. **Use `tf.data.Dataset` instead of `self._i...   \n",
       "\n",
       "                                    secure_results_T5  \\\n",
       "74  1. Use functools.lru_cache to cache the result...   \n",
       "\n",
       "                                 optimized_results_T5  \\\n",
       "74  1. **Use functools.lru_cache to cache the resu...   \n",
       "\n",
       "                   secure_from_codeT5_recommendations  \\\n",
       "74  ```python\\r\\nimport torch\\r\\nfrom torch.jit im...   \n",
       "\n",
       "                 optimize_from_codeT5_recommendations  \\\n",
       "74  ```python\\r\\ndef _init_parameter_defaults(self...   \n",
       "\n",
       "                       secure_from_T5_recommendations  \\\n",
       "74  ```python\\r\\nimport torch\\r\\nimport functools\\...   \n",
       "\n",
       "                     optimize_from_T5_recommendations  \\\n",
       "74  ** ```python\\r\\ndef _init_parameter_defaults(s...   \n",
       "\n",
       "    codeT5_secure_after_score  codeT5_optimize_after_score  \\\n",
       "74                   0.187318                     0.127967   \n",
       "\n",
       "    T5_secure_after_score  T5_optimize_after_score  \\\n",
       "74               0.420837                 0.494059   \n",
       "\n",
       "    codeT5_secure_before_score  codeT5_optimize_before_score  \\\n",
       "74                    0.226641                      0.146452   \n",
       "\n",
       "    T5_secure_before_score  T5_optimize_before_score  \n",
       "74                 0.48959                  0.620198  "
      ]
     },
     "execution_count": 200,
     "metadata": {},
     "output_type": "execute_result"
    }
   ],
   "source": [
    "scores_df[scores_df[\"codeT5_secure_before_score\"] == scores_df[\"codeT5_secure_before_score\"].min()] # index 80"
   ]
  },
  {
   "cell_type": "code",
   "execution_count": 239,
   "id": "62af64e0",
   "metadata": {},
   "outputs": [
    {
     "name": "stdout",
     "output_type": "stream",
     "text": [
      "ngram 0.06839633481081311\n",
      "weighted 0.37150115998267197\n",
      "dataflow 0.16666666666666666\n",
      "syntactic 0.3\n",
      "74    ```python\\r\\nimport torch\\r\\nfrom torch.jit im...\n",
      "Name: secure_from_codeT5_recommendations, dtype: object\n",
      "human eval 74    {'codebleu': 0.23065641614601518, 'ngram_match...\n",
      "dtype: object\n"
     ]
    },
    {
     "name": "stderr",
     "output_type": "stream",
     "text": [
      "/home/saachi/.local/lib/python3.10/site-packages/tree_sitter/__init__.py:36: FutureWarning: Language(path, name) is deprecated. Use Language(ptr, name) instead.\n",
      "  warn(\"{} is deprecated. Use {} instead.\".format(old, new), FutureWarning)\n"
     ]
    }
   ],
   "source": [
    "# print(scores_df.iloc[74][\"before_merge\"])\n",
    "# print(\"\\n\\n\")\n",
    "# print(scores_df.iloc[74][\"secure_from_codeT5_recommendations\"])\n",
    "# print(scores_df.iloc[74][\"secure_results_codeT5\"])\n",
    "print(\"ngram\", ngram_score(scores_df.iloc[74][\"before_merge\"], scores_df.iloc[74][\"secure_from_codeT5_recommendations\"]))\n",
    "print(\"weighted\", weighted_ngram_score(scores_df.iloc[74][\"before_merge\"], scores_df.iloc[74][\"secure_from_codeT5_recommendations\"]))\n",
    "print(\"dataflow\", dataflow_score(scores_df.iloc[74][\"before_merge\"], scores_df.iloc[74][\"secure_from_codeT5_recommendations\"]))\n",
    "print(\"syntactic\", syntactic_ast_score(scores_df.iloc[74][\"before_merge\"], scores_df.iloc[74][\"secure_from_codeT5_recommendations\"]))\n",
    "print(scores_df[74:75][\"secure_from_codeT5_recommendations\"])\n",
    "print(\"human eval\", human_eval_scores(scores_df[74:75], \"secure_from_codeT5_recommendations\"))"
   ]
  },
  {
   "cell_type": "code",
   "execution_count": 240,
   "id": "7ceeac52",
   "metadata": {},
   "outputs": [
    {
     "data": {
      "text/plain": [
       "0.10800000000000001"
      ]
     },
     "execution_count": 240,
     "metadata": {},
     "output_type": "execute_result"
    }
   ],
   "source": [
    "0.46 * 0.1\n",
    "0.47 * 0.1\n",
    "0.82 * 0.4\n",
    "0.27 * 0.4"
   ]
  },
  {
   "cell_type": "code",
   "execution_count": 7,
   "id": "fab8d556",
   "metadata": {},
   "outputs": [],
   "source": [
    "COLUMN_HEADERS = [\"codeT5_secure_before_score\", \\\n",
    "                   \"codeT5_optimize_before_score\", \\\n",
    "                   \"T5_secure_before_score\", \\\n",
    "                   \"T5_optimize_before_score\"\n",
    "                  ]"
   ]
  },
  {
   "cell_type": "code",
   "execution_count": 10,
   "id": "26acc2cd",
   "metadata": {},
   "outputs": [],
   "source": [
    "def apply_function_on_column(function, dataframe, column):\n",
    "    return eval(function + \"(dataframe, column)\")"
   ]
  },
  {
   "cell_type": "code",
   "execution_count": 11,
   "id": "a54aeb90",
   "metadata": {},
   "outputs": [],
   "source": [
    "def apply_function_on_columns(function, dataframe, columns = COLUMN_HEADERS):\n",
    "    return [apply_function_on_column(function, dataframe, column) for column in columns]"
   ]
  },
  {
   "cell_type": "code",
   "execution_count": 15,
   "id": "775cf0c6",
   "metadata": {},
   "outputs": [],
   "source": [
    "def scores_mean(dataframe, column):\n",
    "    return dataframe[column].mean()"
   ]
  },
  {
   "cell_type": "code",
   "execution_count": 26,
   "id": "6095d717",
   "metadata": {},
   "outputs": [
    {
     "data": {
      "text/plain": [
       "[0.7350330228185215,\n",
       " 0.7074374879188735,\n",
       " 0.7514367980687279,\n",
       " 0.7419247193880134]"
      ]
     },
     "execution_count": 26,
     "metadata": {},
     "output_type": "execute_result"
    }
   ],
   "source": [
    "mean_scores_for_before_merge = apply_function_on_columns(\"scores_mean\", scores_df)\n",
    "mean_scores_for_before_merge"
   ]
  },
  {
   "cell_type": "code",
   "execution_count": 57,
   "id": "f1cddbd8",
   "metadata": {},
   "outputs": [],
   "source": [
    "def map_data_with_columns(data, column_headers):\n",
    "    return {col: value for value, col in zip(data, column_headers)}"
   ]
  },
  {
   "cell_type": "code",
   "execution_count": 63,
   "id": "4b6057b3",
   "metadata": {},
   "outputs": [],
   "source": [
    "def single_row(mapped_data):\n",
    "    return pd.DataFrame(mapped_data, index = [\"0\"])"
   ]
  },
  {
   "cell_type": "code",
   "execution_count": 64,
   "id": "313ca874",
   "metadata": {},
   "outputs": [],
   "source": [
    "def single_row_df(data, column_headers = COLUMN_HEADERS):\n",
    "    return single_row(map_data_with_columns(data, column_headers))"
   ]
  },
  {
   "cell_type": "code",
   "execution_count": 65,
   "id": "79869eb4",
   "metadata": {},
   "outputs": [],
   "source": [
    "mean_scores_df = None\n",
    "# pd.DataFrame({col: value for value, col in zip(mean_scores_for_before_merge, COLUMN_HEADERS)}, index = [\"0\"])"
   ]
  },
  {
   "cell_type": "code",
   "execution_count": 165,
   "id": "0b69fdb7",
   "metadata": {},
   "outputs": [
    {
     "data": {
      "text/html": [
       "<div>\n",
       "<style scoped>\n",
       "    .dataframe tbody tr th:only-of-type {\n",
       "        vertical-align: middle;\n",
       "    }\n",
       "\n",
       "    .dataframe tbody tr th {\n",
       "        vertical-align: top;\n",
       "    }\n",
       "\n",
       "    .dataframe thead th {\n",
       "        text-align: right;\n",
       "    }\n",
       "</style>\n",
       "<table border=\"1\" class=\"dataframe\">\n",
       "  <thead>\n",
       "    <tr style=\"text-align: right;\">\n",
       "      <th></th>\n",
       "      <th>codeT5_secure_before_score</th>\n",
       "      <th>codeT5_optimize_before_score</th>\n",
       "      <th>T5_secure_before_score</th>\n",
       "      <th>T5_optimize_before_score</th>\n",
       "    </tr>\n",
       "  </thead>\n",
       "  <tbody>\n",
       "    <tr>\n",
       "      <th>0</th>\n",
       "      <td>0.735033</td>\n",
       "      <td>0.707437</td>\n",
       "      <td>0.751437</td>\n",
       "      <td>0.741925</td>\n",
       "    </tr>\n",
       "  </tbody>\n",
       "</table>\n",
       "</div>"
      ],
      "text/plain": [
       "   codeT5_secure_before_score  codeT5_optimize_before_score  \\\n",
       "0                    0.735033                      0.707437   \n",
       "\n",
       "   T5_secure_before_score  T5_optimize_before_score  \n",
       "0                0.751437                  0.741925  "
      ]
     },
     "execution_count": 165,
     "metadata": {},
     "output_type": "execute_result"
    }
   ],
   "source": [
    "single_row_mean_scores_df = single_row_df(mean_scores_for_before_merge)\n",
    "single_row_mean_scores_df"
   ]
  },
  {
   "cell_type": "code",
   "execution_count": 80,
   "id": "cb99108e",
   "metadata": {},
   "outputs": [],
   "source": [
    "def single_column_df(data, column_names, index = COLUMN_HEADERS):\n",
    "    return pd.DataFrame(data, index = COLUMN_HEADERS, columns= column_names)"
   ]
  },
  {
   "cell_type": "code",
   "execution_count": 81,
   "id": "83052f73",
   "metadata": {},
   "outputs": [],
   "source": [
    "single_column_mean_scores_df = single_column_df(mean_scores_for_before_merge, [\"Mean\"])"
   ]
  },
  {
   "cell_type": "code",
   "execution_count": 82,
   "id": "fc2e0a2c",
   "metadata": {},
   "outputs": [
    {
     "data": {
      "text/html": [
       "<div>\n",
       "<style scoped>\n",
       "    .dataframe tbody tr th:only-of-type {\n",
       "        vertical-align: middle;\n",
       "    }\n",
       "\n",
       "    .dataframe tbody tr th {\n",
       "        vertical-align: top;\n",
       "    }\n",
       "\n",
       "    .dataframe thead th {\n",
       "        text-align: right;\n",
       "    }\n",
       "</style>\n",
       "<table border=\"1\" class=\"dataframe\">\n",
       "  <thead>\n",
       "    <tr style=\"text-align: right;\">\n",
       "      <th></th>\n",
       "      <th>Mean</th>\n",
       "    </tr>\n",
       "  </thead>\n",
       "  <tbody>\n",
       "    <tr>\n",
       "      <th>codeT5_secure_before_score</th>\n",
       "      <td>0.735033</td>\n",
       "    </tr>\n",
       "    <tr>\n",
       "      <th>codeT5_optimize_before_score</th>\n",
       "      <td>0.707437</td>\n",
       "    </tr>\n",
       "    <tr>\n",
       "      <th>T5_secure_before_score</th>\n",
       "      <td>0.751437</td>\n",
       "    </tr>\n",
       "    <tr>\n",
       "      <th>T5_optimize_before_score</th>\n",
       "      <td>0.741925</td>\n",
       "    </tr>\n",
       "  </tbody>\n",
       "</table>\n",
       "</div>"
      ],
      "text/plain": [
       "                                  Mean\n",
       "codeT5_secure_before_score    0.735033\n",
       "codeT5_optimize_before_score  0.707437\n",
       "T5_secure_before_score        0.751437\n",
       "T5_optimize_before_score      0.741925"
      ]
     },
     "execution_count": 82,
     "metadata": {},
     "output_type": "execute_result"
    }
   ],
   "source": [
    "single_column_mean_scores_df"
   ]
  },
  {
   "cell_type": "code",
   "execution_count": 90,
   "id": "771aec3a",
   "metadata": {},
   "outputs": [],
   "source": [
    "from codebleu import calc_codebleu"
   ]
  },
  {
   "cell_type": "code",
   "execution_count": 228,
   "id": "2d565cdd",
   "metadata": {},
   "outputs": [],
   "source": [
    "def human_eval_score(reference, prediction) -> int:\n",
    "    return calc_codebleu([reference], [prediction], lang=\"python\", weights=(0.1, 0.1, 0.4, 0.4), tokenizer=None)"
   ]
  },
  {
   "cell_type": "code",
   "execution_count": 229,
   "id": "7d4293d7",
   "metadata": {},
   "outputs": [],
   "source": [
    "def human_eval_scores(dataframe, column):\n",
    "    return dataframe.apply(lambda row: human_eval_score(row[\"before_merge\"], row[column]), axis = 1)"
   ]
  },
  {
   "cell_type": "code",
   "execution_count": 233,
   "id": "1ff5b889",
   "metadata": {},
   "outputs": [
    {
     "name": "stderr",
     "output_type": "stream",
     "text": [
      "/home/saachi/.local/lib/python3.10/site-packages/tree_sitter/__init__.py:36: FutureWarning: Language(path, name) is deprecated. Use Language(ptr, name) instead.\n",
      "  warn(\"{} is deprecated. Use {} instead.\".format(old, new), FutureWarning)\n"
     ]
    },
    {
     "data": {
      "text/plain": [
       "{'codebleu': 0.16467204788335668,\n",
       " 'ngram_match_score': 0.004533216653428565,\n",
       " 'weighted_ngram_match_score': 0.058853928846804904,\n",
       " 'syntax_match_score': 0.3125,\n",
       " 'dataflow_match_score': 0.08333333333333333}"
      ]
     },
     "execution_count": 233,
     "metadata": {},
     "output_type": "execute_result"
    }
   ],
   "source": [
    "human_eval_for_before_merge = human_eval_scores(scores_df[80:81], \"secure_from_T5_recommendations\")\n",
    "human_eval_for_before_merge.iloc[0]"
   ]
  },
  {
   "cell_type": "code",
   "execution_count": 194,
   "id": "b3d262c4",
   "metadata": {},
   "outputs": [
    {
     "name": "stdout",
     "output_type": "stream",
     "text": [
      "    def _build(self):\r",
      "\r\n",
      "        unconstrained = self._build_parameter()\r",
      "\r\n",
      "        constrained = self._build_constrained(unconstrained)\r",
      "\r\n",
      "        prior = self._build_prior(unconstrained, constrained)\r",
      "\r\n",
      "        self._unconstrained_tensor = unconstrained  # pylint: disable=W0201\r",
      "\r\n",
      "        self._constrained_tensor = constrained      # pylint: disable=W0201\r",
      "\r\n",
      "        self._prior_tensor = prior                  # pylint: disable=W0201\n",
      "\n",
      "optimize codet5\n",
      "\n",
      "1. Use `tf.tensor.set_shape()` to set the shape of a tensor.\r",
      "\r\n",
      "2. Use `tf.Tensor.copy()` to copy the tensor instead of manually calling `_build_parameter()`.\r",
      "\r\n",
      "3. Use `tf.tensor.set_shape()` to set the shape of a tensor instead of manually calling `_build()`.\n",
      "0.4588137441116194\n",
      "0.47157517734462934\n",
      "0.2727272727272727\n",
      "78    0.530701\n",
      "dtype: float64\n"
     ]
    },
    {
     "name": "stderr",
     "output_type": "stream",
     "text": [
      "/home/saachi/.local/lib/python3.10/site-packages/tree_sitter/__init__.py:36: FutureWarning: Language(path, name) is deprecated. Use Language(ptr, name) instead.\n",
      "  warn(\"{} is deprecated. Use {} instead.\".format(old, new), FutureWarning)\n"
     ]
    }
   ],
   "source": [
    "# sample code\n",
    "print(scores_df.iloc[78][\"before_merge\"])\n",
    "print(\"\\noptimize codet5\\n\")\n",
    "print(scores_df.iloc[78][\"optimized_results_codeT5\"])\n",
    "print(ngram_score(scores_df.iloc[78][\"before_merge\"], scores_df.iloc[78][\"optimize_from_codeT5_recommendations\"]))\n",
    "print(weighted_ngram_score(scores_df.iloc[78][\"before_merge\"], scores_df.iloc[78][\"optimize_from_codeT5_recommendations\"]))\n",
    "print(dataflow_score(scores_df.iloc[78][\"before_merge\"], scores_df.iloc[78][\"optimize_from_codeT5_recommendations\"]))\n",
    "print(human_eval_scores(scores_df[78:79], \"optimize_from_codeT5_recommendations\"))\n",
    "#print(scores_df.iloc[78][\"codeT5_optimize_before_score\"])"
   ]
  },
  {
   "cell_type": "code",
   "execution_count": 160,
   "id": "66e7c837",
   "metadata": {},
   "outputs": [
    {
     "name": "stderr",
     "output_type": "stream",
     "text": [
      "/home/saachi/.local/lib/python3.10/site-packages/tree_sitter/__init__.py:36: FutureWarning: Language(path, name) is deprecated. Use Language(ptr, name) instead.\n",
      "  warn(\"{} is deprecated. Use {} instead.\".format(old, new), FutureWarning)\n",
      "WARNING:root:WARNING: There is no reference data-flows extracted from the whole corpus, and the data-flow match score degenerates to 0. Please consider ignoring this score.\n",
      "/home/saachi/.local/lib/python3.10/site-packages/tree_sitter/__init__.py:36: FutureWarning: Language(path, name) is deprecated. Use Language(ptr, name) instead.\n",
      "  warn(\"{} is deprecated. Use {} instead.\".format(old, new), FutureWarning)\n",
      "WARNING:root:WARNING: There is no reference data-flows extracted from the whole corpus, and the data-flow match score degenerates to 0. Please consider ignoring this score.\n",
      "/home/saachi/.local/lib/python3.10/site-packages/tree_sitter/__init__.py:36: FutureWarning: Language(path, name) is deprecated. Use Language(ptr, name) instead.\n",
      "  warn(\"{} is deprecated. Use {} instead.\".format(old, new), FutureWarning)\n",
      "WARNING:root:WARNING: There is no reference data-flows extracted from the whole corpus, and the data-flow match score degenerates to 0. Please consider ignoring this score.\n",
      "/home/saachi/.local/lib/python3.10/site-packages/tree_sitter/__init__.py:36: FutureWarning: Language(path, name) is deprecated. Use Language(ptr, name) instead.\n",
      "  warn(\"{} is deprecated. Use {} instead.\".format(old, new), FutureWarning)\n",
      "WARNING:root:WARNING: There is no reference data-flows extracted from the whole corpus, and the data-flow match score degenerates to 0. Please consider ignoring this score.\n"
     ]
    }
   ],
   "source": [
    "# \"codeT5_secure_before_score\", \\ \"codeT5_optimize_before_score\", \\ \"T5_secure_before_score\", \\ \"T5_optimize_before_score\"\n",
    "human_eval_scores_means = [\n",
    "    human_eval_scores(scores_df, \"secure_from_codeT5_recommendations\").mean(), \\\n",
    "    human_eval_scores(scores_df, \"optimize_from_codeT5_recommendations\").mean(), \\\n",
    "    human_eval_scores(scores_df, \"secure_from_T5_recommendations\").mean(), \\\n",
    "    human_eval_scores(scores_df, \"optimize_from_T5_recommendations\").mean()\n",
    "]"
   ]
  },
  {
   "cell_type": "code",
   "execution_count": 164,
   "id": "2af3718f",
   "metadata": {},
   "outputs": [
    {
     "data": {
      "text/html": [
       "<div>\n",
       "<style scoped>\n",
       "    .dataframe tbody tr th:only-of-type {\n",
       "        vertical-align: middle;\n",
       "    }\n",
       "\n",
       "    .dataframe tbody tr th {\n",
       "        vertical-align: top;\n",
       "    }\n",
       "\n",
       "    .dataframe thead th {\n",
       "        text-align: right;\n",
       "    }\n",
       "</style>\n",
       "<table border=\"1\" class=\"dataframe\">\n",
       "  <thead>\n",
       "    <tr style=\"text-align: right;\">\n",
       "      <th></th>\n",
       "      <th>codeT5_secure_before_score</th>\n",
       "      <th>codeT5_optimize_before_score</th>\n",
       "      <th>T5_secure_before_score</th>\n",
       "      <th>T5_optimize_before_score</th>\n",
       "    </tr>\n",
       "  </thead>\n",
       "  <tbody>\n",
       "    <tr>\n",
       "      <th>0</th>\n",
       "      <td>0.752515</td>\n",
       "      <td>0.726172</td>\n",
       "      <td>0.766412</td>\n",
       "      <td>0.754899</td>\n",
       "    </tr>\n",
       "  </tbody>\n",
       "</table>\n",
       "</div>"
      ],
      "text/plain": [
       "   codeT5_secure_before_score  codeT5_optimize_before_score  \\\n",
       "0                    0.752515                      0.726172   \n",
       "\n",
       "   T5_secure_before_score  T5_optimize_before_score  \n",
       "0                0.766412                  0.754899  "
      ]
     },
     "execution_count": 164,
     "metadata": {},
     "output_type": "execute_result"
    }
   ],
   "source": [
    "single_row_human_eval_mean_scores_df = single_row_df(human_eval_scores_means)\n",
    "single_row_human_eval_mean_scores_df"
   ]
  },
  {
   "cell_type": "code",
   "execution_count": 15,
   "id": "f71ccf45",
   "metadata": {},
   "outputs": [
    {
     "data": {
      "text/plain": [
       "0.6494754540637034"
      ]
     },
     "execution_count": 15,
     "metadata": {},
     "output_type": "execute_result"
    }
   ],
   "source": [
    "scores_mean(scores_df, \"T5_secure_after_score\")"
   ]
  },
  {
   "cell_type": "code",
   "execution_count": 16,
   "id": "2187a2c6",
   "metadata": {},
   "outputs": [
    {
     "data": {
      "text/plain": [
       "0.6417267961409996"
      ]
     },
     "execution_count": 16,
     "metadata": {},
     "output_type": "execute_result"
    }
   ],
   "source": [
    "scores_mean(scores_df, \"T5_optimize_after_score\")"
   ]
  },
  {
   "cell_type": "code",
   "execution_count": 31,
   "id": "ccdf50bc",
   "metadata": {},
   "outputs": [],
   "source": [
    "from codebleu import calc_codebleu"
   ]
  },
  {
   "cell_type": "code",
   "execution_count": 143,
   "id": "67b25170",
   "metadata": {},
   "outputs": [],
   "source": [
    "def syntactic_ast_score(reference, prediction) -> int:\n",
    "    return calc_codebleu([reference], [prediction], lang=\"python\", weights=(0, 0, 1, 0), tokenizer=None)['syntax_match_score']"
   ]
  },
  {
   "cell_type": "code",
   "execution_count": 213,
   "id": "7d8df255",
   "metadata": {},
   "outputs": [],
   "source": [
    "def equal_weighted_score(reference, prediction) -> int:\n",
    "    return calc_codebleu([reference], [prediction], lang=\"python\", weights=(0.25, 0.25, 0.25, 0.25), tokenizer=None)"
   ]
  },
  {
   "cell_type": "code",
   "execution_count": 20,
   "id": "e438962a",
   "metadata": {},
   "outputs": [
    {
     "data": {
      "text/plain": [
       "0    def cmdb_get_mainline_object_topo(request, bk_...\n",
       "1    def cc_search_object_attribute(request, obj_id...\n",
       "2    def cc_search_create_object_attribute(request,...\n",
       "3    def cc_search_topo(request, obj_id, category, ...\n",
       "4    def job_get_script_list(request, biz_cc_id):\\r...\n",
       "Name: before_merge, dtype: object"
      ]
     },
     "execution_count": 20,
     "metadata": {},
     "output_type": "execute_result"
    }
   ],
   "source": [
    "before_merge_df = scores_df[\"before_merge\"]\n",
    "before_merge_df.head()"
   ]
  },
  {
   "cell_type": "code",
   "execution_count": 50,
   "id": "3c4aa0ce",
   "metadata": {},
   "outputs": [],
   "source": [
    "def syntactic_scores_for_column(column_name):\n",
    "    return scores_df.apply(lambda row: syntactic_ast_score(row[\"before_merge\"], row[column_name]), axis = 1)"
   ]
  },
  {
   "cell_type": "code",
   "execution_count": 53,
   "id": "d506daa8",
   "metadata": {},
   "outputs": [
    {
     "name": "stderr",
     "output_type": "stream",
     "text": [
      "/home/saachi/.local/lib/python3.10/site-packages/tree_sitter/__init__.py:36: FutureWarning: Language(path, name) is deprecated. Use Language(ptr, name) instead.\n",
      "  warn(\"{} is deprecated. Use {} instead.\".format(old, new), FutureWarning)\n",
      "WARNING:root:WARNING: There is no reference data-flows extracted from the whole corpus, and the data-flow match score degenerates to 0. Please consider ignoring this score.\n"
     ]
    },
    {
     "data": {
      "text/plain": [
       "0.7884753742987192"
      ]
     },
     "execution_count": 53,
     "metadata": {},
     "output_type": "execute_result"
    }
   ],
   "source": [
    "syntactic_scores_for_column(\"secure_from_codeT5_recommendations\").mean()"
   ]
  },
  {
   "cell_type": "code",
   "execution_count": 54,
   "id": "a5fecdab",
   "metadata": {},
   "outputs": [
    {
     "name": "stderr",
     "output_type": "stream",
     "text": [
      "/home/saachi/.local/lib/python3.10/site-packages/tree_sitter/__init__.py:36: FutureWarning: Language(path, name) is deprecated. Use Language(ptr, name) instead.\n",
      "  warn(\"{} is deprecated. Use {} instead.\".format(old, new), FutureWarning)\n",
      "WARNING:root:WARNING: There is no reference data-flows extracted from the whole corpus, and the data-flow match score degenerates to 0. Please consider ignoring this score.\n"
     ]
    },
    {
     "data": {
      "text/plain": [
       "0.8301559541306294"
      ]
     },
     "execution_count": 54,
     "metadata": {},
     "output_type": "execute_result"
    }
   ],
   "source": [
    "syntactic_scores_for_column(\"secure_from_T5_recommendations\").mean()"
   ]
  },
  {
   "cell_type": "code",
   "execution_count": 55,
   "id": "7be10ff2",
   "metadata": {},
   "outputs": [
    {
     "name": "stderr",
     "output_type": "stream",
     "text": [
      "/home/saachi/.local/lib/python3.10/site-packages/tree_sitter/__init__.py:36: FutureWarning: Language(path, name) is deprecated. Use Language(ptr, name) instead.\n",
      "  warn(\"{} is deprecated. Use {} instead.\".format(old, new), FutureWarning)\n",
      "WARNING:root:WARNING: There is no reference data-flows extracted from the whole corpus, and the data-flow match score degenerates to 0. Please consider ignoring this score.\n"
     ]
    },
    {
     "data": {
      "text/plain": [
       "0.7756597682386657"
      ]
     },
     "execution_count": 55,
     "metadata": {},
     "output_type": "execute_result"
    }
   ],
   "source": [
    "syntactic_scores_for_column(\"optimize_from_codeT5_recommendations\").mean()"
   ]
  },
  {
   "cell_type": "code",
   "execution_count": 56,
   "id": "14549ae0",
   "metadata": {},
   "outputs": [
    {
     "name": "stderr",
     "output_type": "stream",
     "text": [
      "/home/saachi/.local/lib/python3.10/site-packages/tree_sitter/__init__.py:36: FutureWarning: Language(path, name) is deprecated. Use Language(ptr, name) instead.\n",
      "  warn(\"{} is deprecated. Use {} instead.\".format(old, new), FutureWarning)\n",
      "WARNING:root:WARNING: There is no reference data-flows extracted from the whole corpus, and the data-flow match score degenerates to 0. Please consider ignoring this score.\n"
     ]
    },
    {
     "data": {
      "text/plain": [
       "0.827818176776526"
      ]
     },
     "execution_count": 56,
     "metadata": {},
     "output_type": "execute_result"
    }
   ],
   "source": [
    "syntactic_scores_for_column(\"optimize_from_T5_recommendations\").mean()"
   ]
  },
  {
   "cell_type": "code",
   "execution_count": 181,
   "id": "5f03ac6e",
   "metadata": {},
   "outputs": [],
   "source": [
    "def dataflow_score(reference, prediction) -> int:\n",
    "    return calc_codebleu([reference], [prediction], lang=\"python\", weights=(0, 0, 0, 1), tokenizer=None)['dataflow_match_score']"
   ]
  },
  {
   "cell_type": "code",
   "execution_count": 58,
   "id": "a657ac4f",
   "metadata": {},
   "outputs": [],
   "source": [
    "def dataflow_scores_for_column(column_name):\n",
    "    return scores_df.apply(lambda row: dataflow_score(row[\"before_merge\"], row[column_name]), axis = 1)"
   ]
  },
  {
   "cell_type": "code",
   "execution_count": 59,
   "id": "3cc1c335",
   "metadata": {},
   "outputs": [
    {
     "name": "stderr",
     "output_type": "stream",
     "text": [
      "/home/saachi/.local/lib/python3.10/site-packages/tree_sitter/__init__.py:36: FutureWarning: Language(path, name) is deprecated. Use Language(ptr, name) instead.\n",
      "  warn(\"{} is deprecated. Use {} instead.\".format(old, new), FutureWarning)\n",
      "WARNING:root:WARNING: There is no reference data-flows extracted from the whole corpus, and the data-flow match score degenerates to 0. Please consider ignoring this score.\n"
     ]
    },
    {
     "data": {
      "text/plain": [
       "0.69401949608716"
      ]
     },
     "execution_count": 59,
     "metadata": {},
     "output_type": "execute_result"
    }
   ],
   "source": [
    "dataflow_scores_for_column(\"secure_from_codeT5_recommendations\").mean()"
   ]
  },
  {
   "cell_type": "code",
   "execution_count": 60,
   "id": "6a77dfac",
   "metadata": {},
   "outputs": [
    {
     "name": "stderr",
     "output_type": "stream",
     "text": [
      "/home/saachi/.local/lib/python3.10/site-packages/tree_sitter/__init__.py:36: FutureWarning: Language(path, name) is deprecated. Use Language(ptr, name) instead.\n",
      "  warn(\"{} is deprecated. Use {} instead.\".format(old, new), FutureWarning)\n",
      "WARNING:root:WARNING: There is no reference data-flows extracted from the whole corpus, and the data-flow match score degenerates to 0. Please consider ignoring this score.\n"
     ]
    },
    {
     "data": {
      "text/plain": [
       "0.6638338388435557"
      ]
     },
     "execution_count": 60,
     "metadata": {},
     "output_type": "execute_result"
    }
   ],
   "source": [
    "dataflow_scores_for_column(\"secure_from_T5_recommendations\").mean()"
   ]
  },
  {
   "cell_type": "code",
   "execution_count": 61,
   "id": "0e5b4c14",
   "metadata": {},
   "outputs": [
    {
     "name": "stderr",
     "output_type": "stream",
     "text": [
      "/home/saachi/.local/lib/python3.10/site-packages/tree_sitter/__init__.py:36: FutureWarning: Language(path, name) is deprecated. Use Language(ptr, name) instead.\n",
      "  warn(\"{} is deprecated. Use {} instead.\".format(old, new), FutureWarning)\n",
      "WARNING:root:WARNING: There is no reference data-flows extracted from the whole corpus, and the data-flow match score degenerates to 0. Please consider ignoring this score.\n"
     ]
    },
    {
     "data": {
      "text/plain": [
       "0.696948818830846"
      ]
     },
     "execution_count": 61,
     "metadata": {},
     "output_type": "execute_result"
    }
   ],
   "source": [
    "dataflow_scores_for_column(\"optimize_from_codeT5_recommendations\").mean()"
   ]
  },
  {
   "cell_type": "code",
   "execution_count": 62,
   "id": "e8133960",
   "metadata": {},
   "outputs": [
    {
     "name": "stderr",
     "output_type": "stream",
     "text": [
      "/home/saachi/.local/lib/python3.10/site-packages/tree_sitter/__init__.py:36: FutureWarning: Language(path, name) is deprecated. Use Language(ptr, name) instead.\n",
      "  warn(\"{} is deprecated. Use {} instead.\".format(old, new), FutureWarning)\n",
      "WARNING:root:WARNING: There is no reference data-flows extracted from the whole corpus, and the data-flow match score degenerates to 0. Please consider ignoring this score.\n"
     ]
    },
    {
     "data": {
      "text/plain": [
       "0.6946598205166622"
      ]
     },
     "execution_count": 62,
     "metadata": {},
     "output_type": "execute_result"
    }
   ],
   "source": [
    "dataflow_scores_for_column(\"optimize_from_T5_recommendations\").mean()"
   ]
  },
  {
   "cell_type": "code",
   "execution_count": 145,
   "id": "a4e53649",
   "metadata": {},
   "outputs": [],
   "source": [
    "def ngram_score(reference, prediction) -> int:\n",
    "    return calc_codebleu([reference], [prediction], lang=\"python\", weights=(1, 0, 0, 0), tokenizer=None)['ngram_match_score']"
   ]
  },
  {
   "cell_type": "code",
   "execution_count": 83,
   "id": "d61a07e9",
   "metadata": {},
   "outputs": [],
   "source": [
    "def ngram_scores_for_column(column_name):\n",
    "    return scores_df.apply(lambda row: ngram_score(row[\"before_merge\"], row[column_name]), axis = 1)"
   ]
  },
  {
   "cell_type": "code",
   "execution_count": 73,
   "id": "96d77e7c",
   "metadata": {},
   "outputs": [
    {
     "name": "stderr",
     "output_type": "stream",
     "text": [
      "WARNING:root:WARNING: There is no reference data-flows extracted from the whole corpus, and the data-flow match score degenerates to 0. Please consider ignoring this score.\n"
     ]
    },
    {
     "data": {
      "text/plain": [
       "0.6199574615626857"
      ]
     },
     "execution_count": 73,
     "metadata": {},
     "output_type": "execute_result"
    }
   ],
   "source": [
    "ngram_scores_for_column(\"secure_from_codeT5_recommendations\").mean()"
   ]
  },
  {
   "cell_type": "code",
   "execution_count": 114,
   "id": "b0644af6",
   "metadata": {},
   "outputs": [
    {
     "name": "stderr",
     "output_type": "stream",
     "text": [
      "/home/saachi/.local/lib/python3.10/site-packages/tree_sitter/__init__.py:36: FutureWarning: Language(path, name) is deprecated. Use Language(ptr, name) instead.\n",
      "  warn(\"{} is deprecated. Use {} instead.\".format(old, new), FutureWarning)\n",
      "WARNING:root:WARNING: There is no reference data-flows extracted from the whole corpus, and the data-flow match score degenerates to 0. Please consider ignoring this score.\n",
      "/home/saachi/.local/lib/python3.10/site-packages/tree_sitter/__init__.py:36: FutureWarning: Language(path, name) is deprecated. Use Language(ptr, name) instead.\n",
      "  warn(\"{} is deprecated. Use {} instead.\".format(old, new), FutureWarning)\n",
      "WARNING:root:WARNING: There is no reference data-flows extracted from the whole corpus, and the data-flow match score degenerates to 0. Please consider ignoring this score.\n",
      "/home/saachi/.local/lib/python3.10/site-packages/tree_sitter/__init__.py:36: FutureWarning: Language(path, name) is deprecated. Use Language(ptr, name) instead.\n",
      "  warn(\"{} is deprecated. Use {} instead.\".format(old, new), FutureWarning)\n",
      "WARNING:root:WARNING: There is no reference data-flows extracted from the whole corpus, and the data-flow match score degenerates to 0. Please consider ignoring this score.\n",
      "/home/saachi/.local/lib/python3.10/site-packages/tree_sitter/__init__.py:36: FutureWarning: Language(path, name) is deprecated. Use Language(ptr, name) instead.\n",
      "  warn(\"{} is deprecated. Use {} instead.\".format(old, new), FutureWarning)\n",
      "WARNING:root:WARNING: There is no reference data-flows extracted from the whole corpus, and the data-flow match score degenerates to 0. Please consider ignoring this score.\n"
     ]
    }
   ],
   "source": [
    "ngram_scores_df = pd.DataFrame([\n",
    " ngram_scores_for_column(\"secure_from_T5_recommendations\").mean(), \\\n",
    " ngram_scores_for_column(\"secure_from_codeT5_recommendations\").mean(), \\\n",
    " ngram_scores_for_column(\"optimize_from_T5_recommendations\").mean(), \\\n",
    " ngram_scores_for_column(\"optimize_from_codeT5_recommendations\").mean()\n",
    "])"
   ]
  },
  {
   "cell_type": "code",
   "execution_count": 115,
   "id": "0f8682cc",
   "metadata": {},
   "outputs": [
    {
     "data": {
      "text/html": [
       "<div>\n",
       "<style scoped>\n",
       "    .dataframe tbody tr th:only-of-type {\n",
       "        vertical-align: middle;\n",
       "    }\n",
       "\n",
       "    .dataframe tbody tr th {\n",
       "        vertical-align: top;\n",
       "    }\n",
       "\n",
       "    .dataframe thead th {\n",
       "        text-align: right;\n",
       "    }\n",
       "</style>\n",
       "<table border=\"1\" class=\"dataframe\">\n",
       "  <thead>\n",
       "    <tr style=\"text-align: right;\">\n",
       "      <th></th>\n",
       "      <th>0</th>\n",
       "    </tr>\n",
       "  </thead>\n",
       "  <tbody>\n",
       "    <tr>\n",
       "      <th>0</th>\n",
       "      <td>0.608707</td>\n",
       "    </tr>\n",
       "    <tr>\n",
       "      <th>1</th>\n",
       "      <td>0.619957</td>\n",
       "    </tr>\n",
       "    <tr>\n",
       "      <th>2</th>\n",
       "      <td>0.631070</td>\n",
       "    </tr>\n",
       "    <tr>\n",
       "      <th>3</th>\n",
       "      <td>0.593425</td>\n",
       "    </tr>\n",
       "  </tbody>\n",
       "</table>\n",
       "</div>"
      ],
      "text/plain": [
       "          0\n",
       "0  0.608707\n",
       "1  0.619957\n",
       "2  0.631070\n",
       "3  0.593425"
      ]
     },
     "execution_count": 115,
     "metadata": {},
     "output_type": "execute_result"
    }
   ],
   "source": [
    "ngram_scores_df.head()"
   ]
  },
  {
   "cell_type": "code",
   "execution_count": 75,
   "id": "5d219c6b",
   "metadata": {},
   "outputs": [
    {
     "name": "stderr",
     "output_type": "stream",
     "text": [
      "/home/saachi/.local/lib/python3.10/site-packages/tree_sitter/__init__.py:36: FutureWarning: Language(path, name) is deprecated. Use Language(ptr, name) instead.\n",
      "  warn(\"{} is deprecated. Use {} instead.\".format(old, new), FutureWarning)\n",
      "WARNING:root:WARNING: There is no reference data-flows extracted from the whole corpus, and the data-flow match score degenerates to 0. Please consider ignoring this score.\n"
     ]
    },
    {
     "data": {
      "text/plain": [
       "0.5934246124267956"
      ]
     },
     "execution_count": 75,
     "metadata": {},
     "output_type": "execute_result"
    }
   ],
   "source": [
    "ngram_scores_for_column(\"optimize_from_codeT5_recommendations\").mean()"
   ]
  },
  {
   "cell_type": "code",
   "execution_count": 76,
   "id": "bede70c1",
   "metadata": {},
   "outputs": [
    {
     "name": "stderr",
     "output_type": "stream",
     "text": [
      "/home/saachi/.local/lib/python3.10/site-packages/tree_sitter/__init__.py:36: FutureWarning: Language(path, name) is deprecated. Use Language(ptr, name) instead.\n",
      "  warn(\"{} is deprecated. Use {} instead.\".format(old, new), FutureWarning)\n",
      "WARNING:root:WARNING: There is no reference data-flows extracted from the whole corpus, and the data-flow match score degenerates to 0. Please consider ignoring this score.\n"
     ]
    },
    {
     "data": {
      "text/plain": [
       "0.6310695905756083"
      ]
     },
     "execution_count": 76,
     "metadata": {},
     "output_type": "execute_result"
    }
   ],
   "source": [
    "ngram_scores_for_column(\"optimize_from_T5_recommendations\").mean()"
   ]
  },
  {
   "cell_type": "code",
   "execution_count": 150,
   "id": "bc139abe",
   "metadata": {},
   "outputs": [],
   "source": [
    "def weighted_ngram_score(reference, prediction) -> int:\n",
    "    return calc_codebleu([reference], [prediction], lang=\"python\", weights=(0, 1, 0, 0), tokenizer=None)['weighted_ngram_match_score']"
   ]
  },
  {
   "cell_type": "code",
   "execution_count": 80,
   "id": "cf99f795",
   "metadata": {},
   "outputs": [],
   "source": [
    "def weighted_ngram_scores_for_column(column_name):\n",
    "    return scores_df.apply(lambda row: weighted_ngram_score(row[\"before_merge\"], row[column_name]), axis = 1)"
   ]
  },
  {
   "cell_type": "code",
   "execution_count": 81,
   "id": "30972a2f",
   "metadata": {},
   "outputs": [
    {
     "name": "stderr",
     "output_type": "stream",
     "text": [
      "/home/saachi/.local/lib/python3.10/site-packages/tree_sitter/__init__.py:36: FutureWarning: Language(path, name) is deprecated. Use Language(ptr, name) instead.\n",
      "  warn(\"{} is deprecated. Use {} instead.\".format(old, new), FutureWarning)\n",
      "WARNING:root:WARNING: There is no reference data-flows extracted from the whole corpus, and the data-flow match score degenerates to 0. Please consider ignoring this score.\n"
     ]
    },
    {
     "data": {
      "text/plain": [
       "0.7930851472697271"
      ]
     },
     "execution_count": 81,
     "metadata": {},
     "output_type": "execute_result"
    }
   ],
   "source": [
    "weighted_ngram_scores_for_column(\"secure_from_codeT5_recommendations\").mean()"
   ]
  },
  {
   "cell_type": "code",
   "execution_count": 84,
   "id": "9179c213",
   "metadata": {},
   "outputs": [
    {
     "name": "stderr",
     "output_type": "stream",
     "text": [
      "/home/saachi/.local/lib/python3.10/site-packages/tree_sitter/__init__.py:36: FutureWarning: Language(path, name) is deprecated. Use Language(ptr, name) instead.\n",
      "  warn(\"{} is deprecated. Use {} instead.\".format(old, new), FutureWarning)\n",
      "WARNING:root:WARNING: There is no reference data-flows extracted from the whole corpus, and the data-flow match score degenerates to 0. Please consider ignoring this score.\n"
     ]
    },
    {
     "data": {
      "text/plain": [
       "0.8429581599137289"
      ]
     },
     "execution_count": 84,
     "metadata": {},
     "output_type": "execute_result"
    }
   ],
   "source": [
    "weighted_ngram_scores_for_column(\"secure_from_T5_recommendations\").mean()"
   ]
  },
  {
   "cell_type": "code",
   "execution_count": 86,
   "id": "11fc7752",
   "metadata": {},
   "outputs": [
    {
     "name": "stderr",
     "output_type": "stream",
     "text": [
      "/home/saachi/.local/lib/python3.10/site-packages/tree_sitter/__init__.py:36: FutureWarning: Language(path, name) is deprecated. Use Language(ptr, name) instead.\n",
      "  warn(\"{} is deprecated. Use {} instead.\".format(old, new), FutureWarning)\n",
      "WARNING:root:WARNING: There is no reference data-flows extracted from the whole corpus, and the data-flow match score degenerates to 0. Please consider ignoring this score.\n"
     ]
    },
    {
     "data": {
      "text/plain": [
       "0.7579000835626802"
      ]
     },
     "execution_count": 86,
     "metadata": {},
     "output_type": "execute_result"
    }
   ],
   "source": [
    "weighted_ngram_scores_for_column(\"optimize_from_codeT5_recommendations\").mean()"
   ]
  },
  {
   "cell_type": "code",
   "execution_count": 87,
   "id": "a18d2f9a",
   "metadata": {},
   "outputs": [
    {
     "name": "stderr",
     "output_type": "stream",
     "text": [
      "/home/saachi/.local/lib/python3.10/site-packages/tree_sitter/__init__.py:36: FutureWarning: Language(path, name) is deprecated. Use Language(ptr, name) instead.\n",
      "  warn(\"{} is deprecated. Use {} instead.\".format(old, new), FutureWarning)\n",
      "WARNING:root:WARNING: There is no reference data-flows extracted from the whole corpus, and the data-flow match score degenerates to 0. Please consider ignoring this score.\n"
     ]
    },
    {
     "data": {
      "text/plain": [
       "0.809380345505696"
      ]
     },
     "execution_count": 87,
     "metadata": {},
     "output_type": "execute_result"
    }
   ],
   "source": [
    "weighted_ngram_scores_for_column(\"optimize_from_T5_recommendations\").mean()"
   ]
  },
  {
   "cell_type": "code",
   "execution_count": 119,
   "id": "bd6a0633",
   "metadata": {},
   "outputs": [],
   "source": [
    "def human_eval_score(reference, prediction) -> int:\n",
    "    return calc_codebleu([reference], [prediction], lang=\"python\", weights=(0.1, 0.1, 0.4, 0.4), tokenizer=None)['codebleu']"
   ]
  },
  {
   "cell_type": "code",
   "execution_count": 120,
   "id": "20979da0",
   "metadata": {},
   "outputs": [],
   "source": [
    "def human_eval_scores_for_column(column_name):\n",
    "    return scores_df.apply(lambda row: human_eval_score(row[\"before_merge\"], row[column_name]), axis = 1)"
   ]
  },
  {
   "cell_type": "code",
   "execution_count": 121,
   "id": "c28826a5",
   "metadata": {},
   "outputs": [
    {
     "name": "stderr",
     "output_type": "stream",
     "text": [
      "/home/saachi/.local/lib/python3.10/site-packages/tree_sitter/__init__.py:36: FutureWarning: Language(path, name) is deprecated. Use Language(ptr, name) instead.\n",
      "  warn(\"{} is deprecated. Use {} instead.\".format(old, new), FutureWarning)\n",
      "WARNING:root:WARNING: There is no reference data-flows extracted from the whole corpus, and the data-flow match score degenerates to 0. Please consider ignoring this score.\n"
     ]
    },
    {
     "data": {
      "text/plain": [
       "0.726165954177996"
      ]
     },
     "execution_count": 121,
     "metadata": {},
     "output_type": "execute_result"
    }
   ],
   "source": [
    "human_eval_scores_for_column(\"optimize_from_codeT5_recommendations\").mean()"
   ]
  },
  {
   "cell_type": "code",
   "execution_count": 122,
   "id": "86e388ab",
   "metadata": {},
   "outputs": [
    {
     "name": "stderr",
     "output_type": "stream",
     "text": [
      "/home/saachi/.local/lib/python3.10/site-packages/tree_sitter/__init__.py:36: FutureWarning: Language(path, name) is deprecated. Use Language(ptr, name) instead.\n",
      "  warn(\"{} is deprecated. Use {} instead.\".format(old, new), FutureWarning)\n",
      "WARNING:root:WARNING: There is no reference data-flows extracted from the whole corpus, and the data-flow match score degenerates to 0. Please consider ignoring this score.\n"
     ]
    },
    {
     "data": {
      "text/plain": [
       "0.7522126567987869"
      ]
     },
     "execution_count": 122,
     "metadata": {},
     "output_type": "execute_result"
    }
   ],
   "source": [
    "human_eval_scores_for_column(\"secure_from_codeT5_recommendations\").mean()"
   ]
  },
  {
   "cell_type": "code",
   "execution_count": 96,
   "id": "42fbb648",
   "metadata": {},
   "outputs": [],
   "source": [
    "import matplotlib.pyplot as plt "
   ]
  },
  {
   "cell_type": "code",
   "execution_count": 118,
   "id": "2add6533",
   "metadata": {},
   "outputs": [
    {
     "data": {
      "image/png": "[encoded data removed]",
      "text/plain": [
       "<Figure size 432x288 with 1 Axes>"
      ]
     },
     "metadata": {
      "needs_background": "light"
     },
     "output_type": "display_data"
    }
   ],
   "source": [
    "ngram_scores_df.plot(kind='bar')\n",
    "\n",
    "# Show the plot\n",
    "plt.show()"
   ]
  }
 ],
 "metadata": {
  "kernelspec": {
   "display_name": "Python 3 (ipykernel)",
   "language": "python",
   "name": "python3"
  },
  "language_info": {
   "codemirror_mode": {
    "name": "ipython",
    "version": 3
   },
   "file_extension": ".py",
   "mimetype": "text/x-python",
   "name": "python",
   "nbconvert_exporter": "python",
   "pygments_lexer": "ipython3",
   "version": "3.10.12"
  }
 },
 "nbformat": 4,
 "nbformat_minor": 5
}
