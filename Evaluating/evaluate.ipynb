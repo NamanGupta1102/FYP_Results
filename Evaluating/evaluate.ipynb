{
 "cells": [
  {
   "cell_type": "code",
   "execution_count": null,
   "metadata": {},
   "outputs": [],
   "source": [
    "headers = ['id','after_merge',\t'before_merge','source code and errors','full_traceback','traceback_type', 'secure_results','optimized_results']\n",
    "with open('Recommend_optimized.csv', 'a+') as f_object:\n",
    "# obj = [ i, df['after_merge'][i], df['before_merge'][i], df['source code and errors'][i], df['full_traceback'][i], df['traceback_type'][i], df['secure_results'][i], opti ]\n",
    "        writer_object = writer(f_object)\n",
    "        writer_object.writerow(headers)\n",
    " \n",
    "    # Close the file object\n",
    "        f_object.close()"
   ]
  },
  {
   "cell_type": "code",
   "execution_count": null,
   "metadata": {},
   "outputs": [],
   "source": [
    "# obj = ['id','after_merge',\t'before_merge','source code and errors','full_traceback','traceback_type', 'secure_results','optimied_results']\n",
    "with open('Recommend_optimized.csv', 'a+', encoding=\"utf-8\") as f_object:\n",
    "    for i in df.index[:]:\n",
    "        opti = recommend(df['before_merge'][i])\n",
    "        obj = [ i, df['after_merge'][i], df['before_merge'][i], df['source code and errors'][i], df['full_traceback'][i], df['traceback_type'][i], df['secure_results'][i], opti ]\n",
    "        writer_object = writer(f_object)\n",
    "        writer_object.writerow(obj)\n",
    "        print(i)\n",
    " \n",
    "    # Close the file object\n",
    "    f_object.close()"
   ]
  }
 ],
 "metadata": {
  "language_info": {
   "name": "python"
  }
 },
 "nbformat": 4,
 "nbformat_minor": 2
}
