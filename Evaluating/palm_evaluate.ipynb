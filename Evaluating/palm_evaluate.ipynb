{
 "cells": [
  {
   "cell_type": "code",
   "execution_count": 1,
   "id": "959e45c3",
   "metadata": {},
   "outputs": [],
   "source": [
    "import pandas as pd"
   ]
  },
  {
   "cell_type": "code",
   "execution_count": 3,
   "id": "986ce1b7",
   "metadata": {},
   "outputs": [],
   "source": [
    "palm_codes_df = pd.read_csv('code_and_recommendations_palm.csv')"
   ]
  },
  {
   "cell_type": "code",
   "execution_count": 4,
   "id": "16e683b0",
   "metadata": {},
   "outputs": [
    {
     "data": {
      "text/html": [
       "<div>\n",
       "<style scoped>\n",
       "    .dataframe tbody tr th:only-of-type {\n",
       "        vertical-align: middle;\n",
       "    }\n",
       "\n",
       "    .dataframe tbody tr th {\n",
       "        vertical-align: top;\n",
       "    }\n",
       "\n",
       "    .dataframe thead th {\n",
       "        text-align: right;\n",
       "    }\n",
       "</style>\n",
       "<table border=\"1\" class=\"dataframe\">\n",
       "  <thead>\n",
       "    <tr style=\"text-align: right;\">\n",
       "      <th></th>\n",
       "      <th>index</th>\n",
       "      <th>after_merge</th>\n",
       "      <th>before_merge</th>\n",
       "      <th>secure_results_codeT5</th>\n",
       "      <th>optimized_results_codeT5</th>\n",
       "      <th>secure_results_T5</th>\n",
       "      <th>optimized_results_T5</th>\n",
       "      <th>secure_from_codeT5_recommendations</th>\n",
       "      <th>optimize_from_codeT5_recommendations</th>\n",
       "      <th>secure_from_T5_recommendations</th>\n",
       "      <th>...</th>\n",
       "      <th>codeT5_optimize_after_score</th>\n",
       "      <th>T5_secure_after_score</th>\n",
       "      <th>T5_optimize_after_score</th>\n",
       "      <th>codeT5_secure_before_score</th>\n",
       "      <th>codeT5_optimize_before_score</th>\n",
       "      <th>T5_secure_before_score</th>\n",
       "      <th>palm_recomendations_secure</th>\n",
       "      <th>palm_recomendations_optimize</th>\n",
       "      <th>palm_code_secure</th>\n",
       "      <th>palm_code_optimize</th>\n",
       "    </tr>\n",
       "  </thead>\n",
       "  <tbody>\n",
       "    <tr>\n",
       "      <th>0</th>\n",
       "      <td>0</td>\n",
       "      <td>def cmdb_get_mainline_object_topo(request, bk_...</td>\n",
       "      <td>def cmdb_get_mainline_object_topo(request, bk_...</td>\n",
       "      <td>1. Use `json.dumps()` to serialize the data in...</td>\n",
       "      <td>1. **Use `functools.lru_cache` to cache the re...</td>\n",
       "      <td>1. Use functools.lru_cache to cache the result...</td>\n",
       "      <td>1. **Use functools.lru_cache to cache the resu...</td>\n",
       "      <td>```python\\r\\r\\ndef cmdb_get_mainline_object_to...</td>\n",
       "      <td>```python\\r\\r\\ndef cmdb_get_mainline_object_to...</td>\n",
       "      <td>```python\\r\\r\\ndef cmdb_get_mainline_object_to...</td>\n",
       "      <td>...</td>\n",
       "      <td>0.647970</td>\n",
       "      <td>0.831847</td>\n",
       "      <td>0.752255</td>\n",
       "      <td>0.834695</td>\n",
       "      <td>0.919853</td>\n",
       "      <td>0.721098</td>\n",
       "      <td>1. Use `get_client_by_request()` to get a clie...</td>\n",
       "      <td>1. Use `functools.lru_cache` to cache the expe...</td>\n",
       "      <td>```python\\r\\ndef cmdb_get_mainline_object_topo...</td>\n",
       "      <td>```python\\r\\ndef cmdb_get_mainline_object_topo...</td>\n",
       "    </tr>\n",
       "    <tr>\n",
       "      <th>1</th>\n",
       "      <td>1</td>\n",
       "      <td>def cc_search_object_attribute(request, obj_id...</td>\n",
       "      <td>def cc_search_object_attribute(request, obj_id...</td>\n",
       "      <td>1. Use `get_client_by_request` to get the clie...</td>\n",
       "      <td>1. **Use `json.dumps()` instead of `handle_api...</td>\n",
       "      <td>1. Use functools.lru_cache to cache the result...</td>\n",
       "      <td>1. Use functools.lru_cache to cache the result...</td>\n",
       "      <td>```python\\r\\r\\ndef cc_search_object_attribute(...</td>\n",
       "      <td>```python\\r\\r\\ndef cc_search_object_attribute(...</td>\n",
       "      <td>```python\\r\\r\\ndef cc_search_object_attribute(...</td>\n",
       "      <td>...</td>\n",
       "      <td>0.741072</td>\n",
       "      <td>0.777787</td>\n",
       "      <td>0.296979</td>\n",
       "      <td>0.819638</td>\n",
       "      <td>0.299828</td>\n",
       "      <td>0.957141</td>\n",
       "      <td>1. Use `client.cc.search_object_attribute` to ...</td>\n",
       "      <td>1. Use `filter()` to filter out the non-editab...</td>\n",
       "      <td>```python\\r\\ndef cc_search_object_attribute(re...</td>\n",
       "      <td>```python\\r\\ndef cc_search_object_attribute(re...</td>\n",
       "    </tr>\n",
       "    <tr>\n",
       "      <th>2</th>\n",
       "      <td>2</td>\n",
       "      <td>def cc_search_create_object_attribute(request,...</td>\n",
       "      <td>def cc_search_create_object_attribute(request,...</td>\n",
       "      <td>1. Use `get_client_by_request` to get the clie...</td>\n",
       "      <td>1. **Use `json.dumps()` to serialize the data ...</td>\n",
       "      <td>1. Use functools.lru_cache to cache the result...</td>\n",
       "      <td>1. Use functools.lru_cache to cache the result...</td>\n",
       "      <td>```python\\r\\r\\ndef cc_search_create_object_att...</td>\n",
       "      <td>```python\\r\\r\\ndef cc_search_create_object_att...</td>\n",
       "      <td>```python\\r\\r\\ndef cc_search_create_object_att...</td>\n",
       "      <td>...</td>\n",
       "      <td>0.762474</td>\n",
       "      <td>0.726034</td>\n",
       "      <td>0.790359</td>\n",
       "      <td>0.965557</td>\n",
       "      <td>0.964548</td>\n",
       "      <td>0.749770</td>\n",
       "      <td>1. Use `getattr` instead of `get` to access at...</td>\n",
       "      <td>1. **Use `filter()` to filter the results of `...</td>\n",
       "      <td>```python\\r\\ndef cc_search_create_object_attri...</td>\n",
       "      <td>```python\\r\\ndef cc_search_create_object_attri...</td>\n",
       "    </tr>\n",
       "    <tr>\n",
       "      <th>3</th>\n",
       "      <td>3</td>\n",
       "      <td>def cc_search_topo(request, obj_id, category, ...</td>\n",
       "      <td>def cc_search_topo(request, obj_id, category, ...</td>\n",
       "      <td>1. Use `json.dumps()` to serialize the respons...</td>\n",
       "      <td>1. **Use `json.dumps()` instead of `json.dumps...</td>\n",
       "      <td>1. Use functools.lru_cache to cache the result...</td>\n",
       "      <td>1. Use functools.lru_cache to cache the result...</td>\n",
       "      <td>```python\\r\\r\\ndef cc_search_topo(request, obj...</td>\n",
       "      <td>```python\\r\\r\\ndef cc_search_topo(request, obj...</td>\n",
       "      <td>save def cc_search_topo(request, obj_id, categ...</td>\n",
       "      <td>...</td>\n",
       "      <td>0.632022</td>\n",
       "      <td>0.726077</td>\n",
       "      <td>0.741627</td>\n",
       "      <td>0.802965</td>\n",
       "      <td>0.865912</td>\n",
       "      <td>0.756692</td>\n",
       "      <td>1. **Use proper parameter names**. The paramet...</td>\n",
       "      <td>1. **Use `functools.lru_cache` to cache the re...</td>\n",
       "      <td>```python\\r\\ndef cc_search_topo(request, obj_i...</td>\n",
       "      <td>```python\\r\\ndef cc_search_topo(request, obj_i...</td>\n",
       "    </tr>\n",
       "    <tr>\n",
       "      <th>4</th>\n",
       "      <td>4</td>\n",
       "      <td>def job_get_script_list(request, biz_cc_id):\\r...</td>\n",
       "      <td>def job_get_script_list(request, biz_cc_id):\\r...</td>\n",
       "      <td>1. Use `get_client_by_request` instead of `get...</td>\n",
       "      <td>1. **Use `json.dumps()` instead of `handle_api...</td>\n",
       "      <td>1. Use functools.lru_cache to cache the result...</td>\n",
       "      <td>1. **Use functools.lru_cache to cache the resu...</td>\n",
       "      <td>```python\\r\\r\\ndef job_get_script_list(request...</td>\n",
       "      <td>```python\\r\\r\\ndef job_get_script_list(request...</td>\n",
       "      <td>```python\\r\\r\\ndef job_get_script_list(request...</td>\n",
       "      <td>...</td>\n",
       "      <td>0.591245</td>\n",
       "      <td>0.802527</td>\n",
       "      <td>0.805361</td>\n",
       "      <td>0.963398</td>\n",
       "      <td>0.946469</td>\n",
       "      <td>0.898908</td>\n",
       "      <td>1. Use `get_client_by_request()` to get a clie...</td>\n",
       "      <td>1. Use `filter()` to filter the scripts by typ...</td>\n",
       "      <td>```python\\r\\ndef job_get_script_list(request, ...</td>\n",
       "      <td>```python\\r\\ndef job_get_script_list(request, ...</td>\n",
       "    </tr>\n",
       "  </tbody>\n",
       "</table>\n",
       "<p>5 rows × 22 columns</p>\n",
       "</div>"
      ],
      "text/plain": [
       "   index                                        after_merge  \\\n",
       "0      0  def cmdb_get_mainline_object_topo(request, bk_...   \n",
       "1      1  def cc_search_object_attribute(request, obj_id...   \n",
       "2      2  def cc_search_create_object_attribute(request,...   \n",
       "3      3  def cc_search_topo(request, obj_id, category, ...   \n",
       "4      4  def job_get_script_list(request, biz_cc_id):\\r...   \n",
       "\n",
       "                                        before_merge  \\\n",
       "0  def cmdb_get_mainline_object_topo(request, bk_...   \n",
       "1  def cc_search_object_attribute(request, obj_id...   \n",
       "2  def cc_search_create_object_attribute(request,...   \n",
       "3  def cc_search_topo(request, obj_id, category, ...   \n",
       "4  def job_get_script_list(request, biz_cc_id):\\r...   \n",
       "\n",
       "                               secure_results_codeT5  \\\n",
       "0  1. Use `json.dumps()` to serialize the data in...   \n",
       "1  1. Use `get_client_by_request` to get the clie...   \n",
       "2  1. Use `get_client_by_request` to get the clie...   \n",
       "3  1. Use `json.dumps()` to serialize the respons...   \n",
       "4  1. Use `get_client_by_request` instead of `get...   \n",
       "\n",
       "                            optimized_results_codeT5  \\\n",
       "0  1. **Use `functools.lru_cache` to cache the re...   \n",
       "1  1. **Use `json.dumps()` instead of `handle_api...   \n",
       "2  1. **Use `json.dumps()` to serialize the data ...   \n",
       "3  1. **Use `json.dumps()` instead of `json.dumps...   \n",
       "4  1. **Use `json.dumps()` instead of `handle_api...   \n",
       "\n",
       "                                   secure_results_T5  \\\n",
       "0  1. Use functools.lru_cache to cache the result...   \n",
       "1  1. Use functools.lru_cache to cache the result...   \n",
       "2  1. Use functools.lru_cache to cache the result...   \n",
       "3  1. Use functools.lru_cache to cache the result...   \n",
       "4  1. Use functools.lru_cache to cache the result...   \n",
       "\n",
       "                                optimized_results_T5  \\\n",
       "0  1. **Use functools.lru_cache to cache the resu...   \n",
       "1  1. Use functools.lru_cache to cache the result...   \n",
       "2  1. Use functools.lru_cache to cache the result...   \n",
       "3  1. Use functools.lru_cache to cache the result...   \n",
       "4  1. **Use functools.lru_cache to cache the resu...   \n",
       "\n",
       "                  secure_from_codeT5_recommendations  \\\n",
       "0  ```python\\r\\r\\ndef cmdb_get_mainline_object_to...   \n",
       "1  ```python\\r\\r\\ndef cc_search_object_attribute(...   \n",
       "2  ```python\\r\\r\\ndef cc_search_create_object_att...   \n",
       "3  ```python\\r\\r\\ndef cc_search_topo(request, obj...   \n",
       "4  ```python\\r\\r\\ndef job_get_script_list(request...   \n",
       "\n",
       "                optimize_from_codeT5_recommendations  \\\n",
       "0  ```python\\r\\r\\ndef cmdb_get_mainline_object_to...   \n",
       "1  ```python\\r\\r\\ndef cc_search_object_attribute(...   \n",
       "2  ```python\\r\\r\\ndef cc_search_create_object_att...   \n",
       "3  ```python\\r\\r\\ndef cc_search_topo(request, obj...   \n",
       "4  ```python\\r\\r\\ndef job_get_script_list(request...   \n",
       "\n",
       "                      secure_from_T5_recommendations  ...  \\\n",
       "0  ```python\\r\\r\\ndef cmdb_get_mainline_object_to...  ...   \n",
       "1  ```python\\r\\r\\ndef cc_search_object_attribute(...  ...   \n",
       "2  ```python\\r\\r\\ndef cc_search_create_object_att...  ...   \n",
       "3  save def cc_search_topo(request, obj_id, categ...  ...   \n",
       "4  ```python\\r\\r\\ndef job_get_script_list(request...  ...   \n",
       "\n",
       "  codeT5_optimize_after_score  T5_secure_after_score  T5_optimize_after_score  \\\n",
       "0                    0.647970               0.831847                 0.752255   \n",
       "1                    0.741072               0.777787                 0.296979   \n",
       "2                    0.762474               0.726034                 0.790359   \n",
       "3                    0.632022               0.726077                 0.741627   \n",
       "4                    0.591245               0.802527                 0.805361   \n",
       "\n",
       "   codeT5_secure_before_score  codeT5_optimize_before_score  \\\n",
       "0                    0.834695                      0.919853   \n",
       "1                    0.819638                      0.299828   \n",
       "2                    0.965557                      0.964548   \n",
       "3                    0.802965                      0.865912   \n",
       "4                    0.963398                      0.946469   \n",
       "\n",
       "   T5_secure_before_score                         palm_recomendations_secure  \\\n",
       "0                0.721098  1. Use `get_client_by_request()` to get a clie...   \n",
       "1                0.957141  1. Use `client.cc.search_object_attribute` to ...   \n",
       "2                0.749770  1. Use `getattr` instead of `get` to access at...   \n",
       "3                0.756692  1. **Use proper parameter names**. The paramet...   \n",
       "4                0.898908  1. Use `get_client_by_request()` to get a clie...   \n",
       "\n",
       "                        palm_recomendations_optimize  \\\n",
       "0  1. Use `functools.lru_cache` to cache the expe...   \n",
       "1  1. Use `filter()` to filter out the non-editab...   \n",
       "2  1. **Use `filter()` to filter the results of `...   \n",
       "3  1. **Use `functools.lru_cache` to cache the re...   \n",
       "4  1. Use `filter()` to filter the scripts by typ...   \n",
       "\n",
       "                                    palm_code_secure  \\\n",
       "0  ```python\\r\\ndef cmdb_get_mainline_object_topo...   \n",
       "1  ```python\\r\\ndef cc_search_object_attribute(re...   \n",
       "2  ```python\\r\\ndef cc_search_create_object_attri...   \n",
       "3  ```python\\r\\ndef cc_search_topo(request, obj_i...   \n",
       "4  ```python\\r\\ndef job_get_script_list(request, ...   \n",
       "\n",
       "                                  palm_code_optimize  \n",
       "0  ```python\\r\\ndef cmdb_get_mainline_object_topo...  \n",
       "1  ```python\\r\\ndef cc_search_object_attribute(re...  \n",
       "2  ```python\\r\\ndef cc_search_create_object_attri...  \n",
       "3  ```python\\r\\ndef cc_search_topo(request, obj_i...  \n",
       "4  ```python\\r\\ndef job_get_script_list(request, ...  \n",
       "\n",
       "[5 rows x 22 columns]"
      ]
     },
     "execution_count": 4,
     "metadata": {},
     "output_type": "execute_result"
    }
   ],
   "source": [
    "palm_codes_df.head()"
   ]
  },
  {
   "cell_type": "code",
   "execution_count": 17,
   "id": "ccdf50bc",
   "metadata": {},
   "outputs": [],
   "source": [
    "from codebleu import calc_codebleu"
   ]
  },
  {
   "cell_type": "code",
   "execution_count": 18,
   "id": "67b25170",
   "metadata": {},
   "outputs": [],
   "source": [
    "def syntactic_ast_score(reference, prediction) -> int:\n",
    "    return calc_codebleu([reference], [prediction], lang=\"python\", weights=(0, 0, 1, 0), tokenizer=None)['syntax_match_score']"
   ]
  },
  {
   "cell_type": "code",
   "execution_count": 19,
   "id": "e438962a",
   "metadata": {},
   "outputs": [
    {
     "data": {
      "text/plain": [
       "0    def cmdb_get_mainline_object_topo(request, bk_...\n",
       "1    def cc_search_object_attribute(request, obj_id...\n",
       "2    def cc_search_create_object_attribute(request,...\n",
       "3    def cc_search_topo(request, obj_id, category, ...\n",
       "4    def job_get_script_list(request, biz_cc_id):\\r...\n",
       "Name: before_merge, dtype: object"
      ]
     },
     "execution_count": 19,
     "metadata": {},
     "output_type": "execute_result"
    }
   ],
   "source": [
    "before_merge_df = palm_codes_df[\"before_merge\"]\n",
    "before_merge_df.head()"
   ]
  },
  {
   "cell_type": "code",
   "execution_count": 20,
   "id": "3c4aa0ce",
   "metadata": {},
   "outputs": [],
   "source": [
    "def syntactic_scores_for_column(column_name, df = palm_codes_df):\n",
    "    return df.apply(lambda row: syntactic_ast_score(row[\"before_merge\"], row[column_name]), axis = 1)"
   ]
  },
  {
   "cell_type": "code",
   "execution_count": 21,
   "id": "d506daa8",
   "metadata": {},
   "outputs": [
    {
     "name": "stderr",
     "output_type": "stream",
     "text": [
      "/home/saachi/.local/lib/python3.10/site-packages/tree_sitter/__init__.py:36: FutureWarning: Language(path, name) is deprecated. Use Language(ptr, name) instead.\n",
      "  warn(\"{} is deprecated. Use {} instead.\".format(old, new), FutureWarning)\n",
      "WARNING:root:WARNING: There is no reference data-flows extracted from the whole corpus, and the data-flow match score degenerates to 0. Please consider ignoring this score.\n"
     ]
    },
    {
     "data": {
      "text/plain": [
       "0.7681558051746793"
      ]
     },
     "execution_count": 21,
     "metadata": {},
     "output_type": "execute_result"
    }
   ],
   "source": [
    "syntactic_scores_for_column(\"palm_code_secure\").mean()"
   ]
  },
  {
   "cell_type": "code",
   "execution_count": 22,
   "id": "a5fecdab",
   "metadata": {},
   "outputs": [
    {
     "name": "stderr",
     "output_type": "stream",
     "text": [
      "/home/saachi/.local/lib/python3.10/site-packages/tree_sitter/__init__.py:36: FutureWarning: Language(path, name) is deprecated. Use Language(ptr, name) instead.\n",
      "  warn(\"{} is deprecated. Use {} instead.\".format(old, new), FutureWarning)\n",
      "WARNING:root:WARNING: There is no reference data-flows extracted from the whole corpus, and the data-flow match score degenerates to 0. Please consider ignoring this score.\n"
     ]
    },
    {
     "data": {
      "text/plain": [
       "0.7371554066675546"
      ]
     },
     "execution_count": 22,
     "metadata": {},
     "output_type": "execute_result"
    }
   ],
   "source": [
    "syntactic_scores_for_column(\"palm_code_optimize\").mean()"
   ]
  },
  {
   "cell_type": "code",
   "execution_count": 23,
   "id": "5f03ac6e",
   "metadata": {},
   "outputs": [],
   "source": [
    "def dataflow_score(reference, prediction) -> int:\n",
    "    return calc_codebleu([reference], [prediction], lang=\"python\", weights=(0, 0, 0, 1), tokenizer=None)['dataflow_match_score']"
   ]
  },
  {
   "cell_type": "code",
   "execution_count": 24,
   "id": "a657ac4f",
   "metadata": {},
   "outputs": [],
   "source": [
    "def dataflow_scores_for_column(column_name, df = palm_codes_df):\n",
    "    return scores_df.apply(lambda row: dataflow_score(row[\"before_merge\"], row[column_name]), axis = 1)"
   ]
  },
  {
   "cell_type": "code",
   "execution_count": 25,
   "id": "3cc1c335",
   "metadata": {},
   "outputs": [
    {
     "name": "stderr",
     "output_type": "stream",
     "text": [
      "/home/saachi/.local/lib/python3.10/site-packages/tree_sitter/__init__.py:36: FutureWarning: Language(path, name) is deprecated. Use Language(ptr, name) instead.\n",
      "  warn(\"{} is deprecated. Use {} instead.\".format(old, new), FutureWarning)\n",
      "WARNING:root:WARNING: There is no reference data-flows extracted from the whole corpus, and the data-flow match score degenerates to 0. Please consider ignoring this score.\n"
     ]
    },
    {
     "data": {
      "text/plain": [
       "0.7018743113106783"
      ]
     },
     "execution_count": 25,
     "metadata": {},
     "output_type": "execute_result"
    }
   ],
   "source": [
    "dataflow_scores_for_column(\"palm_code_secure\").mean()"
   ]
  },
  {
   "cell_type": "code",
   "execution_count": 26,
   "id": "6a77dfac",
   "metadata": {},
   "outputs": [
    {
     "name": "stderr",
     "output_type": "stream",
     "text": [
      "/home/saachi/.local/lib/python3.10/site-packages/tree_sitter/__init__.py:36: FutureWarning: Language(path, name) is deprecated. Use Language(ptr, name) instead.\n",
      "  warn(\"{} is deprecated. Use {} instead.\".format(old, new), FutureWarning)\n",
      "WARNING:root:WARNING: There is no reference data-flows extracted from the whole corpus, and the data-flow match score degenerates to 0. Please consider ignoring this score.\n"
     ]
    },
    {
     "data": {
      "text/plain": [
       "0.6758163783844552"
      ]
     },
     "execution_count": 26,
     "metadata": {},
     "output_type": "execute_result"
    }
   ],
   "source": [
    "dataflow_scores_for_column(\"palm_code_optimize\").mean()"
   ]
  },
  {
   "cell_type": "code",
   "execution_count": 27,
   "id": "a4e53649",
   "metadata": {},
   "outputs": [],
   "source": [
    "def ngram_score(reference, prediction) -> int:\n",
    "    return calc_codebleu([reference], [prediction], lang=\"python\", weights=(1, 0, 0, 0), tokenizer=None)['ngram_match_score']"
   ]
  },
  {
   "cell_type": "code",
   "execution_count": 28,
   "id": "d61a07e9",
   "metadata": {},
   "outputs": [],
   "source": [
    "def ngram_scores_for_column(column_name,):\n",
    "    return scores_df.apply(lambda row: ngram_score(row[\"before_merge\"], row[column_name]), axis = 1)"
   ]
  },
  {
   "cell_type": "code",
   "execution_count": 29,
   "id": "96d77e7c",
   "metadata": {},
   "outputs": [
    {
     "name": "stderr",
     "output_type": "stream",
     "text": [
      "/home/saachi/.local/lib/python3.10/site-packages/tree_sitter/__init__.py:36: FutureWarning: Language(path, name) is deprecated. Use Language(ptr, name) instead.\n",
      "  warn(\"{} is deprecated. Use {} instead.\".format(old, new), FutureWarning)\n",
      "WARNING:root:WARNING: There is no reference data-flows extracted from the whole corpus, and the data-flow match score degenerates to 0. Please consider ignoring this score.\n"
     ]
    },
    {
     "data": {
      "text/plain": [
       "0.5975424590528363"
      ]
     },
     "execution_count": 29,
     "metadata": {},
     "output_type": "execute_result"
    }
   ],
   "source": [
    "ngram_scores_for_column(\"palm_code_secure\").mean()"
   ]
  },
  {
   "cell_type": "code",
   "execution_count": 30,
   "id": "e0c231cf",
   "metadata": {},
   "outputs": [
    {
     "name": "stderr",
     "output_type": "stream",
     "text": [
      "/home/saachi/.local/lib/python3.10/site-packages/tree_sitter/__init__.py:36: FutureWarning: Language(path, name) is deprecated. Use Language(ptr, name) instead.\n",
      "  warn(\"{} is deprecated. Use {} instead.\".format(old, new), FutureWarning)\n",
      "WARNING:root:WARNING: There is no reference data-flows extracted from the whole corpus, and the data-flow match score degenerates to 0. Please consider ignoring this score.\n"
     ]
    },
    {
     "data": {
      "text/plain": [
       "0.5707488833207692"
      ]
     },
     "execution_count": 30,
     "metadata": {},
     "output_type": "execute_result"
    }
   ],
   "source": [
    "ngram_scores_for_column(\"palm_code_optimize\").mean()"
   ]
  },
  {
   "cell_type": "code",
   "execution_count": 114,
   "id": "b0644af6",
   "metadata": {},
   "outputs": [
    {
     "name": "stderr",
     "output_type": "stream",
     "text": [
      "/home/saachi/.local/lib/python3.10/site-packages/tree_sitter/__init__.py:36: FutureWarning: Language(path, name) is deprecated. Use Language(ptr, name) instead.\n",
      "  warn(\"{} is deprecated. Use {} instead.\".format(old, new), FutureWarning)\n",
      "WARNING:root:WARNING: There is no reference data-flows extracted from the whole corpus, and the data-flow match score degenerates to 0. Please consider ignoring this score.\n",
      "/home/saachi/.local/lib/python3.10/site-packages/tree_sitter/__init__.py:36: FutureWarning: Language(path, name) is deprecated. Use Language(ptr, name) instead.\n",
      "  warn(\"{} is deprecated. Use {} instead.\".format(old, new), FutureWarning)\n",
      "WARNING:root:WARNING: There is no reference data-flows extracted from the whole corpus, and the data-flow match score degenerates to 0. Please consider ignoring this score.\n",
      "/home/saachi/.local/lib/python3.10/site-packages/tree_sitter/__init__.py:36: FutureWarning: Language(path, name) is deprecated. Use Language(ptr, name) instead.\n",
      "  warn(\"{} is deprecated. Use {} instead.\".format(old, new), FutureWarning)\n",
      "WARNING:root:WARNING: There is no reference data-flows extracted from the whole corpus, and the data-flow match score degenerates to 0. Please consider ignoring this score.\n",
      "/home/saachi/.local/lib/python3.10/site-packages/tree_sitter/__init__.py:36: FutureWarning: Language(path, name) is deprecated. Use Language(ptr, name) instead.\n",
      "  warn(\"{} is deprecated. Use {} instead.\".format(old, new), FutureWarning)\n",
      "WARNING:root:WARNING: There is no reference data-flows extracted from the whole corpus, and the data-flow match score degenerates to 0. Please consider ignoring this score.\n"
     ]
    }
   ],
   "source": [
    "ngram_scores_df = pd.DataFrame([\n",
    " ngram_scores_for_column(\"secure_from_T5_recommendations\").mean(), \\\n",
    " ngram_scores_for_column(\"secure_from_codeT5_recommendations\").mean(), \\\n",
    " ngram_scores_for_column(\"optimize_from_T5_recommendations\").mean(), \\\n",
    " ngram_scores_for_column(\"optimize_from_codeT5_recommendations\").mean()\n",
    "])"
   ]
  },
  {
   "cell_type": "code",
   "execution_count": 115,
   "id": "0f8682cc",
   "metadata": {},
   "outputs": [
    {
     "data": {
      "text/html": [
       "<div>\n",
       "<style scoped>\n",
       "    .dataframe tbody tr th:only-of-type {\n",
       "        vertical-align: middle;\n",
       "    }\n",
       "\n",
       "    .dataframe tbody tr th {\n",
       "        vertical-align: top;\n",
       "    }\n",
       "\n",
       "    .dataframe thead th {\n",
       "        text-align: right;\n",
       "    }\n",
       "</style>\n",
       "<table border=\"1\" class=\"dataframe\">\n",
       "  <thead>\n",
       "    <tr style=\"text-align: right;\">\n",
       "      <th></th>\n",
       "      <th>0</th>\n",
       "    </tr>\n",
       "  </thead>\n",
       "  <tbody>\n",
       "    <tr>\n",
       "      <th>0</th>\n",
       "      <td>0.608707</td>\n",
       "    </tr>\n",
       "    <tr>\n",
       "      <th>1</th>\n",
       "      <td>0.619957</td>\n",
       "    </tr>\n",
       "    <tr>\n",
       "      <th>2</th>\n",
       "      <td>0.631070</td>\n",
       "    </tr>\n",
       "    <tr>\n",
       "      <th>3</th>\n",
       "      <td>0.593425</td>\n",
       "    </tr>\n",
       "  </tbody>\n",
       "</table>\n",
       "</div>"
      ],
      "text/plain": [
       "          0\n",
       "0  0.608707\n",
       "1  0.619957\n",
       "2  0.631070\n",
       "3  0.593425"
      ]
     },
     "execution_count": 115,
     "metadata": {},
     "output_type": "execute_result"
    }
   ],
   "source": [
    "ngram_scores_df.head()"
   ]
  },
  {
   "cell_type": "code",
   "execution_count": 31,
   "id": "bc139abe",
   "metadata": {},
   "outputs": [],
   "source": [
    "def weighted_ngram_score(reference, prediction) -> int:\n",
    "    return calc_codebleu([reference], [prediction], lang=\"python\", weights=(0, 1, 0, 0), tokenizer=None)['weighted_ngram_match_score']"
   ]
  },
  {
   "cell_type": "code",
   "execution_count": 80,
   "id": "cf99f795",
   "metadata": {},
   "outputs": [],
   "source": [
    "def weighted_ngram_scores_for_column(column_name):\n",
    "    return scores_df.apply(lambda row: weighted_ngram_score(row[\"before_merge\"], row[column_name]), axis = 1)"
   ]
  },
  {
   "cell_type": "code",
   "execution_count": 81,
   "id": "30972a2f",
   "metadata": {},
   "outputs": [
    {
     "name": "stderr",
     "output_type": "stream",
     "text": [
      "/home/saachi/.local/lib/python3.10/site-packages/tree_sitter/__init__.py:36: FutureWarning: Language(path, name) is deprecated. Use Language(ptr, name) instead.\n",
      "  warn(\"{} is deprecated. Use {} instead.\".format(old, new), FutureWarning)\n",
      "WARNING:root:WARNING: There is no reference data-flows extracted from the whole corpus, and the data-flow match score degenerates to 0. Please consider ignoring this score.\n"
     ]
    },
    {
     "data": {
      "text/plain": [
       "0.7930851472697271"
      ]
     },
     "execution_count": 81,
     "metadata": {},
     "output_type": "execute_result"
    }
   ],
   "source": [
    "weighted_ngram_scores_for_column(\"secure_from_codeT5_recommendations\").mean()"
   ]
  },
  {
   "cell_type": "code",
   "execution_count": 84,
   "id": "9179c213",
   "metadata": {},
   "outputs": [
    {
     "name": "stderr",
     "output_type": "stream",
     "text": [
      "/home/saachi/.local/lib/python3.10/site-packages/tree_sitter/__init__.py:36: FutureWarning: Language(path, name) is deprecated. Use Language(ptr, name) instead.\n",
      "  warn(\"{} is deprecated. Use {} instead.\".format(old, new), FutureWarning)\n",
      "WARNING:root:WARNING: There is no reference data-flows extracted from the whole corpus, and the data-flow match score degenerates to 0. Please consider ignoring this score.\n"
     ]
    },
    {
     "data": {
      "text/plain": [
       "0.8429581599137289"
      ]
     },
     "execution_count": 84,
     "metadata": {},
     "output_type": "execute_result"
    }
   ],
   "source": [
    "weighted_ngram_scores_for_column(\"secure_from_T5_recommendations\").mean()"
   ]
  },
  {
   "cell_type": "code",
   "execution_count": 86,
   "id": "11fc7752",
   "metadata": {},
   "outputs": [
    {
     "name": "stderr",
     "output_type": "stream",
     "text": [
      "/home/saachi/.local/lib/python3.10/site-packages/tree_sitter/__init__.py:36: FutureWarning: Language(path, name) is deprecated. Use Language(ptr, name) instead.\n",
      "  warn(\"{} is deprecated. Use {} instead.\".format(old, new), FutureWarning)\n",
      "WARNING:root:WARNING: There is no reference data-flows extracted from the whole corpus, and the data-flow match score degenerates to 0. Please consider ignoring this score.\n"
     ]
    },
    {
     "data": {
      "text/plain": [
       "0.7579000835626802"
      ]
     },
     "execution_count": 86,
     "metadata": {},
     "output_type": "execute_result"
    }
   ],
   "source": [
    "weighted_ngram_scores_for_column(\"optimize_from_codeT5_recommendations\").mean()"
   ]
  },
  {
   "cell_type": "code",
   "execution_count": 87,
   "id": "a18d2f9a",
   "metadata": {},
   "outputs": [
    {
     "name": "stderr",
     "output_type": "stream",
     "text": [
      "/home/saachi/.local/lib/python3.10/site-packages/tree_sitter/__init__.py:36: FutureWarning: Language(path, name) is deprecated. Use Language(ptr, name) instead.\n",
      "  warn(\"{} is deprecated. Use {} instead.\".format(old, new), FutureWarning)\n",
      "WARNING:root:WARNING: There is no reference data-flows extracted from the whole corpus, and the data-flow match score degenerates to 0. Please consider ignoring this score.\n"
     ]
    },
    {
     "data": {
      "text/plain": [
       "0.809380345505696"
      ]
     },
     "execution_count": 87,
     "metadata": {},
     "output_type": "execute_result"
    }
   ],
   "source": [
    "weighted_ngram_scores_for_column(\"optimize_from_T5_recommendations\").mean()"
   ]
  },
  {
   "cell_type": "code",
   "execution_count": 119,
   "id": "bd6a0633",
   "metadata": {},
   "outputs": [],
   "source": [
    "def human_eval_score(reference, prediction) -> int:\n",
    "    return calc_codebleu([reference], [prediction], lang=\"python\", weights=(0.1, 0.1, 0.4, 0.4), tokenizer=None)['codebleu']"
   ]
  },
  {
   "cell_type": "code",
   "execution_count": 120,
   "id": "20979da0",
   "metadata": {},
   "outputs": [],
   "source": [
    "def human_eval_scores_for_column(column_name):\n",
    "    return scores_df.apply(lambda row: human_eval_score(row[\"before_merge\"], row[column_name]), axis = 1)"
   ]
  },
  {
   "cell_type": "code",
   "execution_count": 121,
   "id": "c28826a5",
   "metadata": {},
   "outputs": [
    {
     "name": "stderr",
     "output_type": "stream",
     "text": [
      "/home/saachi/.local/lib/python3.10/site-packages/tree_sitter/__init__.py:36: FutureWarning: Language(path, name) is deprecated. Use Language(ptr, name) instead.\n",
      "  warn(\"{} is deprecated. Use {} instead.\".format(old, new), FutureWarning)\n",
      "WARNING:root:WARNING: There is no reference data-flows extracted from the whole corpus, and the data-flow match score degenerates to 0. Please consider ignoring this score.\n"
     ]
    },
    {
     "data": {
      "text/plain": [
       "0.726165954177996"
      ]
     },
     "execution_count": 121,
     "metadata": {},
     "output_type": "execute_result"
    }
   ],
   "source": [
    "human_eval_scores_for_column(\"optimize_from_codeT5_recommendations\").mean()"
   ]
  },
  {
   "cell_type": "code",
   "execution_count": 122,
   "id": "86e388ab",
   "metadata": {},
   "outputs": [
    {
     "name": "stderr",
     "output_type": "stream",
     "text": [
      "/home/saachi/.local/lib/python3.10/site-packages/tree_sitter/__init__.py:36: FutureWarning: Language(path, name) is deprecated. Use Language(ptr, name) instead.\n",
      "  warn(\"{} is deprecated. Use {} instead.\".format(old, new), FutureWarning)\n",
      "WARNING:root:WARNING: There is no reference data-flows extracted from the whole corpus, and the data-flow match score degenerates to 0. Please consider ignoring this score.\n"
     ]
    },
    {
     "data": {
      "text/plain": [
       "0.7522126567987869"
      ]
     },
     "execution_count": 122,
     "metadata": {},
     "output_type": "execute_result"
    }
   ],
   "source": [
    "human_eval_scores_for_column(\"secure_from_codeT5_recommendations\").mean()"
   ]
  },
  {
   "cell_type": "code",
   "execution_count": 96,
   "id": "42fbb648",
   "metadata": {},
   "outputs": [],
   "source": [
    "import matplotlib.pyplot as plt "
   ]
  },
  {
   "cell_type": "code",
   "execution_count": 118,
   "id": "2add6533",
   "metadata": {},
   "outputs": [
    {
     "data": {
      "image/png": "[encoded data removed]",
      "text/plain": [
       "<Figure size 432x288 with 1 Axes>"
      ]
     },
     "metadata": {
      "needs_background": "light"
     },
     "output_type": "display_data"
    }
   ],
   "source": [
    "ngram_scores_df.plot(kind='bar')\n",
    "\n",
    "# Show the plot\n",
    "plt.show()"
   ]
  }
 ],
 "metadata": {
  "kernelspec": {
   "display_name": "Python 3 (ipykernel)",
   "language": "python",
   "name": "python3"
  },
  "language_info": {
   "codemirror_mode": {
    "name": "ipython",
    "version": 3
   },
   "file_extension": ".py",
   "mimetype": "text/x-python",
   "name": "python",
   "nbconvert_exporter": "python",
   "pygments_lexer": "ipython3",
   "version": "3.10.12"
  }
 },
 "nbformat": 4,
 "nbformat_minor": 5
}
